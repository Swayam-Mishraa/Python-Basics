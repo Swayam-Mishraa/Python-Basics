{
 "cells": [
  {
   "cell_type": "markdown",
   "id": "e74f353b-62b9-494c-b976-ebe00ab85e22",
   "metadata": {},
   "source": [
    "# Python OOPs Theory Questions"
   ]
  },
  {
   "cell_type": "markdown",
   "id": "47630e86-f71c-40a6-93b1-0df46c214d25",
   "metadata": {},
   "source": [
    "1. What is Object-Oriented Programming (OOP)?\n",
    "    - Object-oriented programminf deals with the class and object which can contain data(attributes and properties) and methods.\n",
    "2. What is a class in OOP?\n",
    "    - Class is the blueprint for creating an object which contains different data(attributes and properties) and methods(to perform opperation on these attributes)\n",
    "3. What is an object in OOP?\n",
    "    - Object is an instance of class.\n",
    "    - eg-> We are objects of Humman class.\n",
    "4. What is the difference between abstraction and encapsulation?\n",
    "    - Abstraction is a process where we make a class abstract which contains abtsract method in which nothing operation is performed,as it is modifed by it's different child class for different purpose.\n",
    "    - Encapsulation is bundling of data and emthods of a class or restricts direct accessing of datas and methods inside a class.\n",
    "    - Encapsulation is done by 3 accessmodifiers >> public,private and protected.\n",
    "5. What are dunder methods in Python?\n",
    "    - These are the built-in magic methods which are present in built-in classes in python.\n",
    "    - We define these type of methods for creating custom objects.\n",
    "6. Explain the concept of inheritance in OOPs?\n",
    "    - Inneheritance is the concept where there are two classes i.e base class and child class\n",
    "    - Due to inheritance child class access all the methods and instance/class varibales inside base class\n",
    "    - eg->\n",
    "   class Father:\n",
    "    def father_prop(self):\n",
    "        print(\"This is father prop\")\n",
    "    class Son(Father):\n",
    "      def job(self):\n",
    "          print(\"Son has property from job\")\n",
    "7. What is polymorphism in OOP?\n",
    "    - Polymorphism is one of the key concepts of Object-Oriented Programming (OOP) that allows different objects to be treated as instances of the same class through a common interface.\n",
    "    - It of two types>> method overloading\n",
    "                        method overriding\n",
    "8. How is encapsulation achieved in Python?\n",
    "    - Encapsulation is achieved by using different acessmodifier\n",
    "      -> public(all the attributes and methods are accessed outside the class)\n",
    "      -> private (all the attributes and methods can not be accessed outside of the class)              -> protected (all the attributes and methods are accessed inside the base and it's child class)\n",
    "9. What is a constructor in Python?\n",
    "    - `__init__` method is also known as constructor\n",
    "    - When an object of a class is created along with it constructor is also called.\n",
    "    - It helps to take data for initialization directly from user while creating an object\n",
    "10. What are class and static methods in Python?\n",
    "    - Class is the blueprint for creating an object which contains different data(attributes and properties) and methods(to perform opperation on these attributes)\n",
    "    - Static methods are the methods which don't take `self/cls` parameter as argument\n",
    "    - These method can directly called by class name,don't requre creation of instance/object of that class and called by that instance/object\n",
    "11. What is method overloading in Python?\n",
    "    - There is no true method overloading in python\n",
    "    - Method overloading means there are more than one methods with same name but taking different parameters.\n",
    "    - But in python if there are more than one methods in one class with same name then only last method is called as it overrides all it's preivous method and that method will be implemented\n",
    "    eg-> class Student:\n",
    "            def student(self):\n",
    "                print(\"Welcome student\")\n",
    "            def student(self,name=\"\"):\n",
    "                print(f\"Welcome {name}\")\n",
    "            def student(self,name=\"\",course=\"\"):\n",
    "                print(f\"Welcome : {name},{course}\")\n",
    "\n",
    "         stud = Student()\n",
    "         stud.student()\n",
    "         stud.student(\"abc\")\n",
    "         stud.student(\"abc\",\"cde\")\n",
    "      o/p-> Welcome : ,\n",
    "            Welcome : abc,\n",
    "            Welcome : abc,cde\n",
    "12. What is method overriding in OOP?\n",
    "    - When child class modify the parrent class methods it is called method overriding\n",
    "    - eg->\n",
    "       class Animal:\n",
    "            def speak(self):\n",
    "                print(\"Animal makes a sound\")\n",
    "\n",
    "      class Dog(Animal):  # Inheriting from Animal\n",
    "            def speak(self):  # Overriding the parent class method\n",
    "                print(\"Dog barks\")\n",
    "\n",
    "     class Cat(Animal):  # Inheriting from Animal\n",
    "        def speak(self):  # Overriding the parent class method\n",
    "            print(\"Cat meows\")\n",
    "\n",
    "    #Creating objects\n",
    "    animal = Animal()\n",
    "    dog = Dog()\n",
    "    cat = Cat()\n",
    "\n",
    "    #Calling the overridden method\n",
    "    animal.speak()  # Output: Animal makes a sound\n",
    "    dog.speak()     # Output: Dog barks\n",
    "    cat.speak()     # Output: Cat meows\n",
    "\n",
    "13. What is a property decorator in Python?\n",
    "    - It is a buitlt-in decorator method\n",
    "    - The @property decorator in Python is used to define a getter method that allows you to access a method like an attribute, without using parentheses ().\n",
    "       eg->\n",
    "              class Circle:\n",
    "                def `__init__`(self,radius):\n",
    "                self.radius = radius\n",
    "                @property\n",
    "                def area(self):\n",
    "                return 3.14 * (self.radius ** 2)\n",
    "            obj1 = Circle(5)\n",
    "            obj1.area\n",
    "            o/p-> 78.5 \n",
    "\n",
    "14. Why is polymorphism important in OOP?\n",
    "    - Code Reusability – Allows writing generic code that works with different object types, reducing duplication.\n",
    "    - Flexibility & Extensibility – New classes can be added without modifying existing code.\n",
    "    - Encapsulation & Abstraction – Provides a consistent interface, hiding implementation details.\n",
    "15. What is an abstract class in Python?\n",
    "    - Abstract class contains abstract methods which is declared but does not have an implementation in the base (parent) class.\n",
    "    - We can not create object of abstract classes\n",
    "16. What are the advantages of OOP?\n",
    "    - Code is organized into reusable objects and classes, reducing duplication.\n",
    "    - Protects data by restricting direct access and using getters/setters and acessmodifiers like private or protected\n",
    "    - Inheritance ->Allows new classes to reuse existing functionality, reducing redundancy.\n",
    "    - Abstraction -> Hides complex implementation details, exposing only necessary functionalities.\n",
    "17. What is the difference between a class variable and an instance variable?\n",
    "    - Class variable are shared among all instance of class, while instance variable is unique to each object of a class\n",
    "    - Class variable is declared inside the class but outside the methods,but instance variables are declared inside (`__init__`) method.\n",
    "    - Class variables are accessed using classname or self(instance_name),but instance variable are accessed using self(instance_name) only\n",
    "18. What is multiple inheritance in Python?\n",
    "    - Multiple inheritance>>  child class can inherit from multiple parent classes.\n",
    "    - However, Python avoids the diamond problem (which exists in languages like Java and C++) by using the Method Resolution Order (MRO) and the C3 Linearization (C3 MRO) algorithm.\n",
    "    - Meaning that the class that is inherited first in the derived class,that method will be called\n",
    "    class Parent1:\n",
    "    def show(self):\n",
    "        print(\"Parent1 show()\")\n",
    "\n",
    "    class Parent2:\n",
    "        def show(self):\n",
    "            print(\"Parent2 show()\")\n",
    "            \n",
    "    class Child(Parent1, Parent2):  # Multiple inheritance\n",
    "        pass\n",
    "    obj = Child()\n",
    "    obj.show()  # Which show() method is called?\n",
    "\n",
    "    o/p -> Parent1 show()\n",
    "- The show() method of Parent1 is called because Python follows MRO (Method Resolution Order), which prioritizes the first parent class in the inheritance list.\n",
    "  \n",
    "19. Explain the purpose of `‘__str__’` and `‘__repr__’` methods in Python?\n",
    "    - `‘__str__’` returns a user-friendly string representation of an object. Called by str(obj) or print(obj).\n",
    "    - `‘__repr__’` returns an unambiguous string representation for debugging. Called by repr(obj) or in an interactive shell.\n",
    "21. What is the significance of the ‘super()’ function in Python?\n",
    "    - It is called by the child class inside the `__init__` method and through this the parrent class instance variable is initialized while creating child class object.\n",
    "    - super() is useful in multiple inheritance to call the correct method in the method resolution order (MRO).\n",
    "22. What is the significance of the ``__del__` method in Python?\n",
    "    - The `__del__` method is a special method (destructor) in Python that is called when an object is about to be destroyed (garbage collected).\n",
    "    - Used for cleanup operations, such as closing files or releasing resources.\n",
    "    - Called automatically when an object goes out of scope or is deleted using del.\n",
    "23. What is the difference between @staticmethod and @classmethod in Python?\n",
    "    -  @classmethod\n",
    "        . bound to the class,acess/modify and attributes associated to the class acrross all instances\n",
    "        . class method can modify class state associated to all the instance of the class\n",
    "    - @staticmethod\n",
    "        . doesn't modify and access class or instance state\n",
    "        . doesn't depend on instance\n",
    "        . it doesn't take either self or cls\n",
    "    \n",
    "24. What is method chaining in Python OOP?\n",
    "    - Method chaining is a technique in Python where multiple methods are called on the same object in a single statement. It is achieved by making methods return self, allowing the next method to be called on the returned object.\n",
    "    - eg->\n",
    "          class Person:\n",
    "            def `__init__`(self, name):\n",
    "                self.name = name\n",
    "                self.age = None\n",
    "\n",
    "            def set_age(self, age):\n",
    "                self.age = age\n",
    "                return self  \n",
    "\n",
    "            def display(self):\n",
    "                print(f\"Name: {self.name}, Age: {self.age}\")\n",
    "                return self  \n",
    "person = Person(\"Alice\").set_age(25).display()\n",
    "Output:\n",
    "Name: Alice, Age: 25\n",
    "\n",
    "25. What is the purpose of the __call__ method in Python?\n",
    "    - The `__call__ method in Python allows an instance of a class to be called like a function. This makes the object callable, meaning you can use object_name() as if it were a function.\n"
   ]
  },
  {
   "cell_type": "markdown",
   "id": "f9100618-e81e-410f-8d4e-74ad01c3a1e5",
   "metadata": {},
   "source": [
    "# Practical Questions"
   ]
  },
  {
   "cell_type": "markdown",
   "id": "0e2b4005-eff5-4253-8705-920ae9a04603",
   "metadata": {},
   "source": [
    "1. Create a parent class Animal with a method speak() that prints a generic message. Create a child class Dog that overrides the speak() method to print \"Bark!\"."
   ]
  },
  {
   "cell_type": "code",
   "execution_count": 1,
   "id": "27a65bb1-3c8a-4f91-b192-99bc87d0e6af",
   "metadata": {},
   "outputs": [
    {
     "name": "stdout",
     "output_type": "stream",
     "text": [
      "Dog barks!!\n"
     ]
    }
   ],
   "source": [
    "class Animal:\n",
    "    def speak(self):\n",
    "        print(\"Different animal have different style of speak\")\n",
    "class Dog(Animal):\n",
    "    def speak(self):\n",
    "        print(\"Dog barks!!\")\n",
    "d = Dog()\n",
    "d.speak()"
   ]
  },
  {
   "cell_type": "markdown",
   "id": "edddedcd-1cfe-4d58-a668-220801f54b72",
   "metadata": {},
   "source": [
    "2. Write a program to create an abstract class Shape with a method area(). Derive classes Circle and Rectangle from it and implement the area() method in both."
   ]
  },
  {
   "cell_type": "code",
   "execution_count": 4,
   "id": "83723e58-5a0e-4a47-9363-74e066dbe77a",
   "metadata": {},
   "outputs": [
    {
     "name": "stdout",
     "output_type": "stream",
     "text": [
      "Area of rectangele 'r' = 276\n",
      "\n",
      "Area of Circle 'c' = 78.5\n"
     ]
    }
   ],
   "source": [
    "class Shape:\n",
    "    def Area(self):\n",
    "        pass\n",
    "class Recatngle(Shape):\n",
    "    def __init__(self,l,y):\n",
    "        self.l = l\n",
    "        self.y = y\n",
    "    def Area(self):\n",
    "        return self.l*self.y\n",
    "\n",
    "class Circle(Shape):\n",
    "    def __init__(self,r):\n",
    "        self.r = r\n",
    "    def Area(self):\n",
    "        return 3.14*(self.r**2)\n",
    "\n",
    "r = Recatngle(12,23)\n",
    "print(f\"Area of rectangele 'r' = {r.Area()}\")\n",
    "print(end = \"\\n\")\n",
    "c = Circle(5)\n",
    "print(f\"Area of Circle 'c' = {c.Area()}\")"
   ]
  },
  {
   "cell_type": "markdown",
   "id": "84c25f78-a05f-4c10-a5fb-14685c963a19",
   "metadata": {},
   "source": [
    "3. Implement a multi-level inheritance scenario where a class Vehicle has an attribute type. Derive a class Car and further derive a class ElectricCar that adds a battery attribute."
   ]
  },
  {
   "cell_type": "code",
   "execution_count": 5,
   "id": "01af7ef1-4c79-43d0-b60a-6f3d9747f178",
   "metadata": {},
   "outputs": [
    {
     "name": "stdout",
     "output_type": "stream",
     "text": [
      "Vehicle Type: Four-wheeler\n",
      "Car Brand: Tesla\n",
      "Battery Capacity: 75 kWh\n"
     ]
    }
   ],
   "source": [
    "class Vehicle:\n",
    "    def __init__(self, vehicle_type):\n",
    "        self.type = vehicle_type\n",
    "    def show_type(self):\n",
    "        print(f\"Vehicle Type: {self.type}\")\n",
    "        \n",
    "class Car(Vehicle):\n",
    "    def __init__(self, vehicle_type, brand):\n",
    "        super().__init__(vehicle_type)  \n",
    "        self.brand = brand\n",
    "    def show_brand(self):\n",
    "        print(f\"Car Brand: {self.brand}\")\n",
    "\n",
    "class ElectricCar(Car):\n",
    "    def __init__(self, vehicle_type, brand, battery_capacity):\n",
    "        super().__init__(vehicle_type, brand)  \n",
    "        self.battery = battery_capacity\n",
    "\n",
    "    def show_battery(self):\n",
    "        print(f\"Battery Capacity: {self.battery} kWh\")\n",
    "        \n",
    "tesla = ElectricCar(\"Four-wheeler\", \"Tesla\", 75)\n",
    "\n",
    "tesla.show_type()      \n",
    "tesla.show_brand()     \n",
    "tesla.show_battery()    "
   ]
  },
  {
   "cell_type": "markdown",
   "id": "cb4f281f-dceb-42f5-8758-0cdb5ac38b2f",
   "metadata": {},
   "source": [
    "4. Demonstrate polymorphism by creating a base class Bird with a method fly(). Create two derived classes Sparrow and Penguin that override the fly() method.\n"
   ]
  },
  {
   "cell_type": "code",
   "execution_count": 6,
   "id": "0a3758fd-f650-4862-8bf7-2960393be2e0",
   "metadata": {},
   "outputs": [
    {
     "name": "stdout",
     "output_type": "stream",
     "text": [
      "Sparrow is a bird and can fly\n",
      "Penguine is a bird but can't fly\n"
     ]
    }
   ],
   "source": [
    "class Bird:\n",
    "    def fly(self):\n",
    "        print(\"Birds can fly\")\n",
    "\n",
    "class Sparrow(Bird):\n",
    "    def fly(self):\n",
    "        print(\"Sparrow is a bird and can fly\")\n",
    "\n",
    "class Penguine(Bird):\n",
    "    def fly(self):\n",
    "        print(\"Penguine is a bird but can't fly\")\n",
    "\n",
    "s = Sparrow().fly()\n",
    "p = Penguine().fly()"
   ]
  },
  {
   "cell_type": "markdown",
   "id": "1dd407f2-f82c-40c7-a3b7-57b573eda903",
   "metadata": {},
   "source": [
    "5. Write a program to demonstrate encapsulation by creating a class BankAccount with private attributes balance and methods to deposit, withdraw, and check balance."
   ]
  },
  {
   "cell_type": "code",
   "execution_count": 9,
   "id": "9f81bef4-d2a6-4732-bef1-6667a5b92a5d",
   "metadata": {},
   "outputs": [
    {
     "name": "stdin",
     "output_type": "stream",
     "text": [
      "Enter your amount: 10000\n"
     ]
    },
    {
     "name": "stdout",
     "output_type": "stream",
     "text": [
      "\n"
     ]
    },
    {
     "name": "stdin",
     "output_type": "stream",
     "text": [
      "Enter ur deposit amt: 3000\n"
     ]
    },
    {
     "name": "stdout",
     "output_type": "stream",
     "text": [
      "3000 amount is deposited :\n",
      "Total amount is :13000\n",
      "\n"
     ]
    },
    {
     "name": "stdin",
     "output_type": "stream",
     "text": [
      "Enter your withdraw amount: 3000\n"
     ]
    },
    {
     "name": "stdout",
     "output_type": "stream",
     "text": [
      "3000 amount is withdrwan\n",
      "Total amount is :10000\n"
     ]
    }
   ],
   "source": [
    "class BankAccount:\n",
    "     def __init__(self,amt):\n",
    "         self.__amt = amt\n",
    "     def deposit(self,dp):\n",
    "         print(f\"{dp} amount is deposited :\")\n",
    "         self.__amt+=dp\n",
    "         print(f\"Total amount is :{self.__amt}\")\n",
    "     def withdraw(self,wd):\n",
    "         if wd > self.__amt:\n",
    "             print(\"Can not be withdrwan\")\n",
    "         else:\n",
    "             print(f\"{wd} amount is withdrwan\")\n",
    "             self.__amt-=wd\n",
    "             print(f\"Total amount is :{self.__amt}\")\n",
    "\n",
    "amt = int(input(\"Enter your amount:\"))\n",
    "b = BankAccount(amt)\n",
    "print(end = \"\\n\")\n",
    "dp = int(input(\"Enter ur deposit amt:\"))\n",
    "b.deposit(dp)\n",
    "print(end = \"\\n\")\n",
    "wd = int(input(\"Enter your withdraw amount:\"))\n",
    "b.withdraw(wd)"
   ]
  },
  {
   "cell_type": "markdown",
   "id": "59ea6e53-9657-4d1d-b882-01549fa63f9e",
   "metadata": {},
   "source": [
    "6. Demonstrate runtime polymorphism using a method play() in a base class Instrument. Derive classes Guitar and Piano that implement their own version of play()."
   ]
  },
  {
   "cell_type": "code",
   "execution_count": 11,
   "id": "f23ecee6-7850-4f83-97d9-392818312740",
   "metadata": {},
   "outputs": [
    {
     "name": "stdout",
     "output_type": "stream",
     "text": [
      "Guiter is one instrument\n",
      "\n",
      "Piano is another musical instrument\n",
      "\n"
     ]
    }
   ],
   "source": [
    "class Instrument:\n",
    "    def show(self):\n",
    "        print(f\"There are many types of instrument:\")\n",
    "\n",
    "class Guiter(Instrument):\n",
    "    def show(self):\n",
    "        print(f\"Guiter is one instrument\")\n",
    "\n",
    "class Piano(Instrument):\n",
    "    def show(self):\n",
    "        print(\"Piano is another musical instrument\")\n",
    "\n",
    "g = Guiter()\n",
    "g.show()\n",
    "print(end=\"\\n\")\n",
    "p = Piano()\n",
    "p.show()\n",
    "print(end= \"\\n\")"
   ]
  },
  {
   "cell_type": "markdown",
   "id": "f8b5a82a-0d80-4407-a405-a92e9b817198",
   "metadata": {},
   "source": [
    "7. Create a class MathOperations with a class method add_numbers() to add two numbers and a static method subtract_numbers() to subtract two numbers."
   ]
  },
  {
   "cell_type": "code",
   "execution_count": 2,
   "id": "630209d2-7065-40c7-b3a8-e3a43b9d5316",
   "metadata": {},
   "outputs": [
    {
     "name": "stdout",
     "output_type": "stream",
     "text": [
      "Addition: 15\n",
      "Subtraction: 5\n"
     ]
    }
   ],
   "source": [
    "class MathOperations:\n",
    "    @classmethod\n",
    "    def add_numbers(cls, a, b):\n",
    "        return a + b\n",
    "\n",
    "    @staticmethod\n",
    "    def subtract_numbers(a, b):\n",
    "        return a - b\n",
    "print(\"Addition:\", MathOperations.add_numbers(10, 5))\n",
    "print(\"Subtraction:\", MathOperations.subtract_numbers(10, 5))"
   ]
  },
  {
   "cell_type": "markdown",
   "id": "b65d4fbd-ffb1-4afc-99c0-459469a93cd9",
   "metadata": {},
   "source": [
    "8. Implement a class Person with a class method to count the total number of persons created."
   ]
  },
  {
   "cell_type": "code",
   "execution_count": 3,
   "id": "bec7d073-2fc5-4c52-9974-353eae0d3bd2",
   "metadata": {},
   "outputs": [
    {
     "name": "stdout",
     "output_type": "stream",
     "text": [
      "Fraction: 3/4\n"
     ]
    }
   ],
   "source": [
    "class Fraction:\n",
    "    def __init__(self, numerator, denominator):\n",
    "        self.numerator = numerator\n",
    "        self.denominator = denominator\n",
    "\n",
    "    def __str__(self):\n",
    "        return f\"{self.numerator}/{self.denominator}\"\n",
    "\n",
    "# Method call\n",
    "f = Fraction(3, 4)\n",
    "print(\"Fraction:\", f)\n"
   ]
  },
  {
   "cell_type": "markdown",
   "id": "1581b923-7207-4e65-b8a9-5b8b88dbcf77",
   "metadata": {},
   "source": [
    "9. Write a class Fraction with attributes numerator and denominator. Override the str method to display the\n",
    "fraction as \"numerator/denominator\"."
   ]
  },
  {
   "cell_type": "code",
   "execution_count": 4,
   "id": "fac4c31f-15e0-4892-8e73-1a7ac122ef48",
   "metadata": {},
   "outputs": [
    {
     "name": "stdout",
     "output_type": "stream",
     "text": [
      "Fraction: 3/4\n"
     ]
    }
   ],
   "source": [
    "class Fraction:\n",
    "    def __init__(self, numerator, denominator):\n",
    "        self.numerator = numerator\n",
    "        self.denominator = denominator\n",
    "\n",
    "    def __str__(self):\n",
    "        return f\"{self.numerator}/{self.denominator}\"\n",
    "\n",
    "# Method call\n",
    "f = Fraction(3, 4)\n",
    "print(\"Fraction:\", f)\n"
   ]
  },
  {
   "cell_type": "markdown",
   "id": "8e10045b-e3fa-408e-b0f9-96ebcbc40f43",
   "metadata": {},
   "source": [
    "10. Demonstrate operator overloading by creating a class Vector and overriding the add method to add two\n",
    "vectors."
   ]
  },
  {
   "cell_type": "code",
   "execution_count": 5,
   "id": "d8a5947d-8258-426f-864e-38b0c39a89a9",
   "metadata": {},
   "outputs": [
    {
     "name": "stdout",
     "output_type": "stream",
     "text": [
      "Resultant Vector: Vector(6, 8)\n"
     ]
    }
   ],
   "source": [
    "class Vector:\n",
    "    def __init__(self, x, y):\n",
    "        self.x = x\n",
    "        self.y = y\n",
    "\n",
    "    def __add__(self, other):\n",
    "        return Vector(self.x + other.x, self.y + other.y)\n",
    "\n",
    "    def __str__(self):\n",
    "        return f\"Vector({self.x}, {self.y})\"\n",
    "\n",
    "# Method calls\n",
    "v1 = Vector(2, 3)\n",
    "v2 = Vector(4, 5)\n",
    "v3 = v1 + v2\n",
    "print(\"Resultant Vector:\", v3)\n"
   ]
  },
  {
   "cell_type": "markdown",
   "id": "b9b926b9-6371-49ef-b36b-70e237eb41c1",
   "metadata": {},
   "source": [
    "11. Create a class Person with attributes name and age. Add a method greet() that prints \"Hello, my name is\n",
    "{name} and I am {age} years old.\""
   ]
  },
  {
   "cell_type": "code",
   "execution_count": 6,
   "id": "7c9882c9-723a-4cf2-b707-346a3d986634",
   "metadata": {},
   "outputs": [
    {
     "name": "stdout",
     "output_type": "stream",
     "text": [
      "Hello, my name is Charlie and I am 30 years old.\n"
     ]
    }
   ],
   "source": [
    "class Person:\n",
    "    def __init__(self, name, age):\n",
    "        self.name = name\n",
    "        self.age = age\n",
    "\n",
    "    def greet(self):\n",
    "        print(f\"Hello, my name is {self.name} and I am {self.age} years old.\")\n",
    "\n",
    "# Method call\n",
    "p = Person(\"Charlie\", 30)\n",
    "p.greet()\n"
   ]
  },
  {
   "cell_type": "markdown",
   "id": "d96391b8-877e-452d-a501-8e77b5668e5b",
   "metadata": {},
   "source": [
    "12. Implement a class Student with attributes name and grades. Create a method average_grade() to compute\n",
    "the average of the grades."
   ]
  },
  {
   "cell_type": "code",
   "execution_count": 9,
   "id": "6ee4c3e0-2b7c-4bd2-aa81-132f4bffcf0d",
   "metadata": {},
   "outputs": [
    {
     "name": "stdout",
     "output_type": "stream",
     "text": [
      "David's average grade: 84.33333333333333\n"
     ]
    }
   ],
   "source": [
    "class Student:\n",
    "    def __init__(self, name, grades):\n",
    "        self.name = name\n",
    "        self.grades = grades\n",
    "\n",
    "    def average_grade(self):\n",
    "        return sum(self.grades) / len(self.grades)\n",
    "\n",
    "# Method call\n",
    "s = Student(\"David\", [85, 90, 78])\n",
    "print(f\"{s.name}'s average grade:\", s.average_grade())\n"
   ]
  },
  {
   "cell_type": "markdown",
   "id": "a98420ad-6a69-4538-bed1-4e083f0d0448",
   "metadata": {},
   "source": [
    "13. Create a class Rectangle with methods set_dimensions() to set the dimensions and area() to calculate the\n",
    "area."
   ]
  },
  {
   "cell_type": "code",
   "execution_count": 10,
   "id": "aecb4af3-4b54-4242-b48b-b57c916b9e7f",
   "metadata": {},
   "outputs": [
    {
     "name": "stdout",
     "output_type": "stream",
     "text": [
      "Area of rectangle: 20\n"
     ]
    }
   ],
   "source": [
    "class Rectangle:\n",
    "    def __init__(self):\n",
    "        self.length = 0\n",
    "        self.width = 0\n",
    "\n",
    "    def set_dimensions(self, length, width):\n",
    "        self.length = length\n",
    "        self.width = width\n",
    "\n",
    "    def area(self):\n",
    "        return self.length * self.width\n",
    "\n",
    "# Method call\n",
    "r = Rectangle()\n",
    "r.set_dimensions(5, 4)\n",
    "print(\"Area of rectangle:\", r.area())\n"
   ]
  },
  {
   "cell_type": "markdown",
   "id": "fb341409-4651-4fd3-9350-9eb820436fc7",
   "metadata": {},
   "source": [
    "14. Create a class Employee with a method calculate_salary() that computes the salary based on hours worked\n",
    "and hourly rate. Create a derived class Manager that adds a bonus to the salary."
   ]
  },
  {
   "cell_type": "code",
   "execution_count": 11,
   "id": "1d59207c-8242-44dd-970c-e5b60affc9d6",
   "metadata": {},
   "outputs": [
    {
     "name": "stdout",
     "output_type": "stream",
     "text": [
      "Employee salary: 800\n",
      "Manager salary with bonus: 1400\n"
     ]
    }
   ],
   "source": [
    "class Employee:\n",
    "    def calculate_salary(self, hours_worked, hourly_rate):\n",
    "        return hours_worked * hourly_rate\n",
    "\n",
    "class Manager(Employee):\n",
    "    def calculate_salary(self, hours_worked, hourly_rate, bonus=0):\n",
    "        base_salary = super().calculate_salary(hours_worked, hourly_rate)\n",
    "        return base_salary + bonus\n",
    "\n",
    "# Method calls\n",
    "e = Employee()\n",
    "print(\"Employee salary:\", e.calculate_salary(40, 20))\n",
    "\n",
    "m = Manager()\n",
    "print(\"Manager salary with bonus:\", m.calculate_salary(40, 30, bonus=200))\n"
   ]
  },
  {
   "cell_type": "markdown",
   "id": "e4aa5458-9d9b-466e-b3c7-ec07323b8ba5",
   "metadata": {},
   "source": [
    "15. Create a class Product with attributes name, price, and quantity. Implement a method total_price() that\n",
    "calculates the total price of the product."
   ]
  },
  {
   "cell_type": "code",
   "execution_count": 12,
   "id": "ac6a03e3-1823-4036-923e-078f47a4003e",
   "metadata": {},
   "outputs": [
    {
     "name": "stdout",
     "output_type": "stream",
     "text": [
      "Total price of Laptops: 1600\n"
     ]
    }
   ],
   "source": [
    "class Product:\n",
    "    def __init__(self, name, price, quantity):\n",
    "        self.name = name\n",
    "        self.price = price\n",
    "        self.quantity = quantity\n",
    "\n",
    "    def total_price(self):\n",
    "        return self.price * self.quantity\n",
    "\n",
    "# Method call\n",
    "p = Product(\"Laptop\", 800, 2)\n",
    "print(f\"Total price of {p.name}s:\", p.total_price())\n"
   ]
  },
  {
   "cell_type": "markdown",
   "id": "86f80971-8ba3-4557-998e-78d52f6140cc",
   "metadata": {},
   "source": [
    "16. Create a class Animal with an abstract method sound(). Create two derived classes Cow and Sheep that\n",
    "implement the sound() method."
   ]
  },
  {
   "cell_type": "code",
   "execution_count": 13,
   "id": "1ed9ce4d-cd82-4579-9142-c39f01b92508",
   "metadata": {},
   "outputs": [
    {
     "name": "stdout",
     "output_type": "stream",
     "text": [
      "Cow sound: Moo\n",
      "Sheep sound: Baa\n"
     ]
    }
   ],
   "source": [
    "from abc import ABC, abstractmethod\n",
    "\n",
    "class Animal(ABC):\n",
    "    @abstractmethod\n",
    "    def sound(self):\n",
    "        pass\n",
    "\n",
    "class Cow(Animal):\n",
    "    def sound(self):\n",
    "        return \"Moo\"\n",
    "\n",
    "class Sheep(Animal):\n",
    "    def sound(self):\n",
    "        return \"Baa\"\n",
    "\n",
    "# Method calls\n",
    "cow = Cow()\n",
    "sheep = Sheep()\n",
    "print(\"Cow sound:\", cow.sound())\n",
    "print(\"Sheep sound:\", sheep.sound())\n"
   ]
  },
  {
   "cell_type": "code",
   "execution_count": null,
   "id": "cb7c1959-e80a-40cb-af30-a0dff0c4681e",
   "metadata": {},
   "outputs": [],
   "source": [
    "17. Create a class Book with attributes title, author, and year_published. Add a method get_book_info() that\n",
    "returns a formatted string with the book's details."
   ]
  },
  {
   "cell_type": "code",
   "execution_count": 14,
   "id": "5f9a70c4-180d-434d-a053-f8c0ecf7d928",
   "metadata": {},
   "outputs": [
    {
     "name": "stdout",
     "output_type": "stream",
     "text": [
      "Book info: '1984' by George Orwell, published in 1949\n"
     ]
    }
   ],
   "source": [
    "class Book:\n",
    "    def __init__(self, title, author, year_published):\n",
    "        self.title = title\n",
    "        self.author = author\n",
    "        self.year_published = year_published\n",
    "\n",
    "    def get_book_info(self):\n",
    "        return f\"'{self.title}' by {self.author}, published in {self.year_published}\"\n",
    "\n",
    "# Method call\n",
    "book = Book(\"1984\", \"George Orwell\", 1949)\n",
    "print(\"Book info:\", book.get_book_info())\n"
   ]
  },
  {
   "cell_type": "code",
   "execution_count": 15,
   "id": "19218d0c-61dd-44dc-96b5-736222795cea",
   "metadata": {},
   "outputs": [
    {
     "name": "stdout",
     "output_type": "stream",
     "text": [
      "Mansion at 123 Luxury St, Price: $5000000, Rooms: 10\n"
     ]
    }
   ],
   "source": [
    "class House:\n",
    "    def __init__(self, address, price):\n",
    "        self.address = address\n",
    "        self.price = price\n",
    "\n",
    "class Mansion(House):\n",
    "    def __init__(self, address, price, number_of_rooms):\n",
    "        super().__init__(address, price)\n",
    "        self.number_of_rooms = number_of_rooms\n",
    "\n",
    "    def display_info(self):\n",
    "        return f\"Mansion at {self.address}, Price: ${self.price}, Rooms: {self.number_of_rooms}\"\n",
    "\n",
    "# Method call\n",
    "mansion = Mansion(\"123 Luxury St\", 5000000, 10)\n",
    "print(mansion.display_info())\n"
   ]
  },
  {
   "cell_type": "code",
   "execution_count": null,
   "id": "8c2e8a9c-d898-4e7b-811e-3fddb24f044d",
   "metadata": {},
   "outputs": [],
   "source": []
  }
 ],
 "metadata": {
  "kernelspec": {
   "display_name": "Python 3 (ipykernel)",
   "language": "python",
   "name": "python3"
  },
  "language_info": {
   "codemirror_mode": {
    "name": "ipython",
    "version": 3
   },
   "file_extension": ".py",
   "mimetype": "text/x-python",
   "name": "python",
   "nbconvert_exporter": "python",
   "pygments_lexer": "ipython3",
   "version": "3.12.4"
  }
 },
 "nbformat": 4,
 "nbformat_minor": 5
}
