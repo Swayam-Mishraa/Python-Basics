{
 "cells": [
  {
   "cell_type": "markdown",
   "id": "413b9236-3f04-4dbe-a73a-122b9dd4b782",
   "metadata": {},
   "source": [
    "# Data Types and Structures Theoratical Questions"
   ]
  },
  {
   "cell_type": "raw",
   "id": "4b2c8131-d4a1-48db-9a01-6761a5863fd6",
   "metadata": {},
   "source": [
    "Q1-> What are data structures, and why are they important?\n",
    "    ->Data structure are the way of organizing and storing data, so that it can be acessed and            manipulated efficiently\n",
    "    ->The right data structure improves time and space complexity.\n",
    "\n",
    "Q2-> Explain the difference between mutable and immutable data types with examples\n",
    "    ->Mutable data structures are those which value can be modified\n",
    "    ->ex- List,Set,Dictionary,\n",
    "    ->Immutable data structure are those which value can not be modified\n",
    "    ->ex- String,Tupple\n",
    "\n",
    "Q3-> What are the main differences between lists and tuples in Python?\n",
    "        List                                   Tupple\n",
    "    ->List is mutable                      ->Tupple is immutable\n",
    "    ->Due to mutablity it                  ->Due to immutability, \n",
    "      has more methods like                  it has less method\n",
    "      append(),remove(),add()etc..           count(), index()\n",
    "    ->Use more memory                      ->Use less memory\n",
    "\n",
    "Q4-> Describe how dictionaries store data?\n",
    "    ->dictionary is a data structure that stores data as key value pair\n",
    "    ->Keys are unique and immutable\n",
    "    ->but values are mutable\n",
    "\n",
    "Q5-> Why might you use a set instead of a list in Python?\n",
    "    ->Set does not store dupplicate element while list stores duplicate elements\n",
    "\n",
    "Q6-> What is a string in Python, and how is it different from a list?\n",
    "    ->String is immutable while list is mutable\n",
    "    ->String stores homogenous datatype i.e charector while lsit stores heterogenous data types\n",
    "    ->String can not modified directly through index but list can\n",
    "\n",
    "Q7-> How do tuples ensure data integrity in Python?\n",
    "    ->A tuple in Python is an immutable data structure, meaning its elements cannot be changed          after creation. \n",
    "    ->This immutability plays a key role in ensuring data integrity by preventing accidental            modifications\n",
    "\n",
    "Q8-> What is a hash table, and how does it relate to dictionaries in Python?\n",
    "    ->It also stores data like dictionary using key value pair\n",
    "    ->Difference between them is hash table is unordered while dictionary maitains order\n",
    "\n",
    "Q9-> Can lists contain different data types in Python?\n",
    "    ->Yes, list contain heterogenous data type\n",
    "\n",
    "Q10-> Explain why strings are immutable in Python?\n",
    "     ->'str' object does not support item assignment\n",
    "     ->If we modify a string, Python creates a new string instead of modifying the original.\n",
    "\n",
    "Q11-> What advantages do dictionaries offer over lists for certain tasks?\n",
    "      ->In dictionary values can be easily accessible through key while in list we have to                remeber index\n",
    "      ->Dictionaries uses hash table, providing average O(1) time complexity for lookups,while\n",
    "        Lists require a linear search, resulting in O(n) time complexity.\n",
    "\n",
    "Q12-> Describe a scenario where using a tuple would be preferable over a list?\n",
    "      ->Tupples are immutable and stores heterogenous data\n",
    "      ->It is used for prevention of data modification\n",
    "        eg->Storing person adhar card number\n",
    "            adhar_card=(\"Swayam\",123-456-789)\n",
    "\n",
    "Q13-> How do sets handle duplicate values in Python?\n",
    "      ->Sets automatically remove duplicate values because they are designed to store only unique         elements. \n",
    "\n",
    "Q14-> How does the “in” keyword work differently for lists and dictionaries?\n",
    "      ->'in' with Lists Searches through each element one by one\n",
    "      ->'in' with Dictionaries checks if a key exists, NOT values.\n",
    "\n",
    "Q15-> Can you modify the elements of a tuple? Explain why or why not?\n",
    "        ->No we can't modify it as tupple is immutable\n",
    "        ->We can only modify it by creating another duplicate tupple and changing it's one value\n",
    "\n",
    "Q16-> What is a nested dictionary, and give an example of its use case?\n",
    "    ->It means multiple dictionaries are present in one Dictionary\n",
    "    -> ex- resturant-menu\n",
    "        restaurant_menu = \n",
    "    {\n",
    "    'Dish1': {'name': 'Pasta Carbonara', 'price': 15.99, 'description': 'Creamy pasta with bacon                and parmesan'},\n",
    "    'Dish2': {'name': 'Chicken Caesar Salad', 'price': 12.50, 'description': 'Grilled chicken                   with romaine lettuce and Caesar dressing'},\n",
    "    'Dish3': {'name': 'Margherita Pizza', 'price': 14.00, 'description': 'Pizza topped with                    tomato, mozzarella, and basil'}\n",
    "    }\n",
    "\n",
    "Q17-> Describe the time complexity of accessing elements in a dictionary?\n",
    "     -> As dictionary uses hash table so it's avg time complexity of accessing elements in a              dictionary is O(1).\n",
    "\n",
    "Q18-> In what situations are lists preferred over dictionaries?\n",
    "      -> For storeing duplicate elements\n",
    "      -> Lists maintain order\n",
    "      -> Accessing by Index\n",
    "        Above these 3 cases lists are preferred\n",
    "\n",
    "Q19-> Why are dictionaries considered unordered, and how does that affect data retrieval?\n",
    "      ->Dictionaries are unordered because they use a hash table, which organizes data by key             rather than position.\n",
    "      ->So data retrival occur through key\n",
    "\n",
    "Q20->  Explain the difference between a list and a dictionary in terms of data retrieval.\n",
    "      ->As dictionary is unorderd, so data retrieval occurs through 'key'\n",
    "      ->But in list order is preserved so data retrieval occurs through index\n",
    "-------------------------------------------xxxxx--------------------------------------------------"
   ]
  },
  {
   "cell_type": "markdown",
   "id": "50a9bb20-0f17-40e1-a1f5-132857b3504e",
   "metadata": {},
   "source": [
    "# Practical Questions"
   ]
  },
  {
   "cell_type": "raw",
   "id": "f8725f41-7910-449e-ad42-a25f4b367c03",
   "metadata": {},
   "source": [
    "Q1-> Write a code to create a string with your name and print it"
   ]
  },
  {
   "cell_type": "code",
   "execution_count": null,
   "id": "88383012-2a2f-43d8-a142-2d1963359921",
   "metadata": {},
   "outputs": [],
   "source": [
    "name=input(\"Enter ur name :\")\n",
    "print(name)\n",
    "\"\"\"\n",
    "o/p->\n",
    "Enter ur name : Swayam\n",
    "Swayam\n",
    "\"\"\""
   ]
  },
  {
   "cell_type": "raw",
   "id": "9c6ca625-6f9d-40c8-82d3-7e317b5511f4",
   "metadata": {},
   "source": [
    "Q2-> Write a code to find the length of the string \"Hello World\""
   ]
  },
  {
   "cell_type": "code",
   "execution_count": 4,
   "id": "4eed5e55-38db-495c-9884-eb72ab474f95",
   "metadata": {},
   "outputs": [
    {
     "name": "stdout",
     "output_type": "stream",
     "text": [
      "length = 11\n"
     ]
    }
   ],
   "source": [
    "str=\"Hello World\"\n",
    "print(\"length =\",len(str))\n",
    "#o/p-> length = 11"
   ]
  },
  {
   "cell_type": "raw",
   "id": "8a0e37c9-50e1-4e88-b893-40c353e7dae2",
   "metadata": {},
   "source": [
    "Q3->Write a code to slice the first 3 characters from the string \"Python Programming\""
   ]
  },
  {
   "cell_type": "code",
   "execution_count": 5,
   "id": "839ea33e-e9f5-478b-9e45-5eac484a2aac",
   "metadata": {},
   "outputs": [
    {
     "name": "stdout",
     "output_type": "stream",
     "text": [
      "1st 3 charectors are : Pyt\n"
     ]
    }
   ],
   "source": [
    "s = \"Python Programming\"\n",
    "print(\"1st 3 charectors are :\",s[0:3])\n",
    "#o/p-> 1st 3 charectors are : Pyt  "
   ]
  },
  {
   "cell_type": "raw",
   "id": "449791cf-a84f-4a7f-ac4c-22c969ee93e2",
   "metadata": {},
   "source": [
    "Q4->  Write a code to convert the string \"hello\" to uppercase"
   ]
  },
  {
   "cell_type": "code",
   "execution_count": 6,
   "id": "5ec7f287-2b33-4c16-af0a-f4fdd3636181",
   "metadata": {},
   "outputs": [
    {
     "name": "stdout",
     "output_type": "stream",
     "text": [
      "upper case of s = HELLO\n"
     ]
    }
   ],
   "source": [
    "s = 'hello'\n",
    "print(\"upper case of s =\",s.upper())\n",
    "# o/p->upper case of s = HELLO"
   ]
  },
  {
   "cell_type": "raw",
   "id": "f2feaa75-6b0e-43ca-bfcc-23c78a82d689",
   "metadata": {},
   "source": [
    "Q5->  Write a code to replace the word \"apple\" with \"orange\" in the string \"I like apple\""
   ]
  },
  {
   "cell_type": "code",
   "execution_count": 7,
   "id": "cbc7ee18-adab-4c0a-b567-fd3d14fdc28b",
   "metadata": {},
   "outputs": [
    {
     "name": "stdout",
     "output_type": "stream",
     "text": [
      "before modification : I like apple\n",
      "after modification : I like orrange\n"
     ]
    }
   ],
   "source": [
    "s = \"I like apple\"\n",
    "print(\"before modification :\",s)\n",
    "s = s.replace(\"apple\",\"orrange\")\n",
    "print(\"after modification :\",s)\n",
    "# o/p-> \n",
    "# before modification : I like apple\n",
    "# after modification : I like orrange"
   ]
  },
  {
   "cell_type": "raw",
   "id": "2a76e2b4-3ea2-4eaf-86ea-ceb6e84e7c30",
   "metadata": {},
   "source": [
    "Q6-> Write a code to create a list with numbers 1 to 5 and print it"
   ]
  },
  {
   "cell_type": "code",
   "execution_count": 1,
   "id": "2d981612-8bb2-4d14-9029-f854aa1d9ec6",
   "metadata": {},
   "outputs": [
    {
     "name": "stdout",
     "output_type": "stream",
     "text": [
      "[1, 2, 3, 4, 5]\n"
     ]
    }
   ],
   "source": [
    "list1 = list(range(1, 6))\n",
    "print(list1)\n",
    "# o/p->\n",
    "# [1, 2, 3, 4, 5]"
   ]
  },
  {
   "cell_type": "raw",
   "id": "e3d06ba6-2431-438d-a167-4d722ae69d52",
   "metadata": {},
   "source": [
    "Q7-> Write a code to append the number 10 to the list [1, 2, 3, 4]"
   ]
  },
  {
   "cell_type": "code",
   "execution_count": 2,
   "id": "bf6e02f8-6af7-4698-a33d-62397577fd67",
   "metadata": {},
   "outputs": [
    {
     "name": "stdout",
     "output_type": "stream",
     "text": [
      "before append : [1, 2, 3, 4]\n",
      "After append :  [1, 2, 3, 4, 10]\n"
     ]
    }
   ],
   "source": [
    "l1=[1, 2, 3, 4]\n",
    "print(\"before append :\",l1)\n",
    "l1.append(10)\n",
    "print(\"After append : \",l1)\n",
    "# o/p->\n",
    "# before append : [1, 2, 3, 4]\n",
    "# After append :  [1, 2, 3, 4, 10]"
   ]
  },
  {
   "cell_type": "raw",
   "id": "75c25afd-69a3-49f8-b9fa-295fd31b5a72",
   "metadata": {},
   "source": [
    "Q8-> Write a code to remove the number 3 from the list [1, 2, 3, 4, 5]"
   ]
  },
  {
   "cell_type": "code",
   "execution_count": 3,
   "id": "e6f40a11-1a48-40b6-b217-5caa704b6a55",
   "metadata": {},
   "outputs": [
    {
     "name": "stdout",
     "output_type": "stream",
     "text": [
      "After removal : [1, 2, 4, 5]\n"
     ]
    }
   ],
   "source": [
    "l1=[1, 2, 3, 4, 5]\n",
    "l1.remove(3)\n",
    "print(\"After removal :\",l1)"
   ]
  },
  {
   "cell_type": "raw",
   "id": "2f1eb17f-4444-4208-97e7-90ad816058de",
   "metadata": {},
   "source": [
    "Q9-> Write a code to access the second element in the list ['a', 'b', 'c', 'd']"
   ]
  },
  {
   "cell_type": "code",
   "execution_count": 5,
   "id": "9ffe5ecb-ea87-4d96-bfb6-97c70aa63b54",
   "metadata": {},
   "outputs": [
    {
     "name": "stdout",
     "output_type": "stream",
     "text": [
      "Second element = b\n"
     ]
    }
   ],
   "source": [
    "l1=['a', 'b', 'c', 'd']\n",
    "print(\"Second element =\",l1[1])"
   ]
  },
  {
   "cell_type": "raw",
   "id": "03b94b5c-d69d-4e65-bf10-f9bb6620260d",
   "metadata": {},
   "source": [
    "Q10-> Write a code to reverse the list [10, 20, 30, 40, 50]."
   ]
  },
  {
   "cell_type": "code",
   "execution_count": 8,
   "id": "24b780ea-b3cf-4057-a2ec-75c5871285bc",
   "metadata": {},
   "outputs": [
    {
     "name": "stdout",
     "output_type": "stream",
     "text": [
      "After reversing list = [50, 40, 30, 20, 10]\n"
     ]
    }
   ],
   "source": [
    "l1=[10, 20, 30, 40, 50]\n",
    "l1.reverse()\n",
    "print(\"After reversing list =\",l1)"
   ]
  },
  {
   "cell_type": "raw",
   "id": "73870559-1396-4bf6-9fcb-e90199d8a72a",
   "metadata": {},
   "source": [
    "Q11-> Write a code to create a tuple with the elements 100, 200, 300 and print it."
   ]
  },
  {
   "cell_type": "code",
   "execution_count": 1,
   "id": "62635eed-83d2-4629-a908-928672d0de8c",
   "metadata": {},
   "outputs": [
    {
     "name": "stdout",
     "output_type": "stream",
     "text": [
      "(100, 200, 300)\n"
     ]
    }
   ],
   "source": [
    "t=(100,200,300)\n",
    "print(t)"
   ]
  },
  {
   "cell_type": "raw",
   "id": "fb5a93e6-9c8e-420e-a600-66949fa137bc",
   "metadata": {},
   "source": [
    "Q12-> Write a code to access the second-to-last element of the tuple ('red', 'green', 'blue', 'yellow')?"
   ]
  },
  {
   "cell_type": "code",
   "execution_count": 2,
   "id": "faeff58e-7cab-41e0-8df0-08b12a786b34",
   "metadata": {},
   "outputs": [
    {
     "name": "stdout",
     "output_type": "stream",
     "text": [
      "Second to last elements are:  ('green', 'blue', 'yellow')\n"
     ]
    }
   ],
   "source": [
    "t1=('red', 'green', 'blue', 'yellow')\n",
    "print(\"Second to last elements are: \",t1[1:])"
   ]
  },
  {
   "cell_type": "raw",
   "id": "6ee4cc8e-bea1-47dc-99af-a1afed8e7f2f",
   "metadata": {},
   "source": [
    "Q13->Write a code to find the minimum number in the tuple (10, 20, 5, 15)?"
   ]
  },
  {
   "cell_type": "code",
   "execution_count": 6,
   "id": "49402b90-3f4a-49ea-a3c2-6b483f9aa578",
   "metadata": {},
   "outputs": [
    {
     "name": "stdout",
     "output_type": "stream",
     "text": [
      "Minimum number:  5\n"
     ]
    }
   ],
   "source": [
    "t=(10, 20, 5, 15)\n",
    "min=100\n",
    "for i in t:\n",
    "    if i<min:\n",
    "        min=i\n",
    "print(\"Minimum number: \",min)"
   ]
  },
  {
   "cell_type": "raw",
   "id": "ea3b951b-f4ef-4acd-9be5-6dfe5565a317",
   "metadata": {},
   "source": [
    "Q14->Write a code to find the index of the element \"cat\" in the tuple ('dog', 'cat', 'rabbit')."
   ]
  },
  {
   "cell_type": "raw",
   "id": "c49d9c23-43e7-400a-a9bf-a1e4c2bf3ad3",
   "metadata": {},
   "source": [
    "t=('dog', 'cat', 'rabbit')\n",
    "print(\"Index of cat: \",t.index('cat'))"
   ]
  },
  {
   "cell_type": "raw",
   "id": "3ea55579-889f-490d-9ae8-92562fd10a37",
   "metadata": {},
   "source": [
    "Q15->Write a code to create a tuple containing three different fruits and check if \"kiwi\" is in it"
   ]
  },
  {
   "cell_type": "code",
   "execution_count": 13,
   "id": "d90453da-7644-40d7-874b-9c0d17a61ecf",
   "metadata": {},
   "outputs": [
    {
     "name": "stdin",
     "output_type": "stream",
     "text": [
      "Enter 3 fruits:  apple,banana,mango\n"
     ]
    },
    {
     "name": "stdout",
     "output_type": "stream",
     "text": [
      "Kiwi is not present\n"
     ]
    }
   ],
   "source": [
    "s=input(\"Enter 3 fruits: \")\n",
    "tf=(s.split(','))\n",
    "if \"kiwi\" in tf:\n",
    "    print(\"Kiwi is present\")\n",
    "else:\n",
    "    print(\"Kiwi is not present\")\n",
    "# o/p->\n",
    "# Enter 3 fruits:  apple,banana,mango\n",
    "# Kiwi is not present"
   ]
  },
  {
   "cell_type": "raw",
   "id": "29489be9-856f-4941-b803-66bcb465fb07",
   "metadata": {},
   "source": [
    "Q16-> Write a code to create a set with the elements 'a', 'b', 'c' and print it."
   ]
  },
  {
   "cell_type": "code",
   "execution_count": 1,
   "id": "0002a75f-6fce-49c8-9917-67fd5ed296b9",
   "metadata": {},
   "outputs": [
    {
     "name": "stdout",
     "output_type": "stream",
     "text": [
      "{'c', 'b', 'a'}\n"
     ]
    }
   ],
   "source": [
    "st={'a', 'b', 'c'}\n",
    "print(st)\n",
    "# o/p->\n",
    "# {'c', 'b', 'a'}"
   ]
  },
  {
   "cell_type": "raw",
   "id": "398ad640-bf1c-4237-82dc-268300184207",
   "metadata": {},
   "source": [
    "Q17->Write a code to clear all elements from the set {1, 2, 3, 4, 5}."
   ]
  },
  {
   "cell_type": "code",
   "execution_count": 2,
   "id": "67720486-b6c1-4460-8d61-4de32f2e3b7c",
   "metadata": {},
   "outputs": [
    {
     "name": "stdout",
     "output_type": "stream",
     "text": [
      "Before clearing elements are: {1, 2, 3, 4, 5}\n",
      "After clearing elemenst are: set()\n"
     ]
    }
   ],
   "source": [
    "st= {1, 2, 3, 4, 5}\n",
    "print(\"Before clearing elements are:\",st)\n",
    "st.clear()\n",
    "print(\"After clearing elemenst are:\",st)\n",
    "# o/p->\n",
    "# Before clearing elements are: {1, 2, 3, 4, 5}\n",
    "# After clearing elemenst are: set()"
   ]
  },
  {
   "cell_type": "raw",
   "id": "1aea0eb9-6092-436f-9211-00a5efea8430",
   "metadata": {},
   "source": [
    "Q18->Write a code to remove the element 4 from the set {1, 2, 3, 4}."
   ]
  },
  {
   "cell_type": "code",
   "execution_count": 3,
   "id": "a2b6dbd3-95b7-4b48-8eeb-7b6d034abd3e",
   "metadata": {},
   "outputs": [
    {
     "name": "stdout",
     "output_type": "stream",
     "text": [
      "Set after removing 4: {1, 2, 3}\n"
     ]
    }
   ],
   "source": [
    "st= {1, 2, 3, 4}\n",
    "st.remove(4)\n",
    "print(\"Set after removing 4:\",st)\n",
    "# o/p->\n",
    "# Set after removing 4: {1, 2, 3}"
   ]
  },
  {
   "cell_type": "raw",
   "id": "dd99424e-e000-4b42-a9ea-cf68c81bb4b3",
   "metadata": {},
   "source": [
    "Q19-> Write a code to find the union of two sets {1, 2, 3} and {3, 4, 5}."
   ]
  },
  {
   "cell_type": "code",
   "execution_count": 4,
   "id": "115a4b60-41ac-4ad0-8b24-7b6a6042c199",
   "metadata": {},
   "outputs": [
    {
     "name": "stdout",
     "output_type": "stream",
     "text": [
      "Union of set1 and set2: {1, 2, 3, 4, 5}\n"
     ]
    }
   ],
   "source": [
    "st1={1, 2, 3}\n",
    "st2={3, 4, 5}\n",
    "print(\"Union of set1 and set2:\",st1|st2)\n",
    "# o/p->\n",
    "# Union of set1 and set2: {1, 2, 3, 4, 5}"
   ]
  },
  {
   "cell_type": "raw",
   "id": "062aaa2f-2e6d-4318-a103-5c079f9bff13",
   "metadata": {},
   "source": [
    "Q20-> Write a code to find the intersection of two sets {1, 2, 3} and {2, 3, 4}."
   ]
  },
  {
   "cell_type": "code",
   "execution_count": 5,
   "id": "cf4d417b-b248-4845-9b90-463063c1cfce",
   "metadata": {},
   "outputs": [
    {
     "name": "stdout",
     "output_type": "stream",
     "text": [
      "Intersection of set1 and set2: {2, 3}\n"
     ]
    }
   ],
   "source": [
    "st1={1, 2, 3}\n",
    "st2={2, 3, 4}\n",
    "print(\"Intersection of set1 and set2:\",st1&st2)\n",
    "# o/p->\n",
    "# Intersection of set1 and set2: {2, 3}"
   ]
  },
  {
   "cell_type": "raw",
   "id": "6601aba6-17ae-4b05-b0a7-6509e3363e7e",
   "metadata": {},
   "source": [
    "Q21-> Write a code to create a dictionary with the keys \"name\", \"age\", and \"city\", and print it."
   ]
  },
  {
   "cell_type": "code",
   "execution_count": 9,
   "id": "e3b198a2-3bf8-4b30-9d2a-09005c216e02",
   "metadata": {
    "jupyter": {
     "source_hidden": true
    }
   },
   "outputs": [
    {
     "name": "stdout",
     "output_type": "stream",
     "text": [
      "{'name': 'Swayam', 'age': 20, 'city': 'Bhubaneswar'}\n"
     ]
    }
   ],
   "source": [
    "dict1={\n",
    "    \"name\":\"Swayam\",\n",
    "    \"age\": 20,\n",
    "    \"city\":\"Bhubaneswar\"\n",
    "}\n",
    "print(dict1)\n",
    "# o/p->\n",
    "# {'name': 'Swayam', 'age': 20, 'city': 'Bhubaneswar'}"
   ]
  },
  {
   "cell_type": "raw",
   "id": "3cf61155-ce2e-40d8-afab-a5df7b49b7a0",
   "metadata": {},
   "source": [
    "Q22-> Write a code to add a new key-value pair \"country\": \"USA\" to the dictionary {'name': 'John', 'age': 25}."
   ]
  },
  {
   "cell_type": "code",
   "execution_count": 11,
   "id": "5e7b6f0b-6936-4620-a081-18830acac25e",
   "metadata": {},
   "outputs": [
    {
     "name": "stdout",
     "output_type": "stream",
     "text": [
      "Original dictionary : {'name': 'John', 'age': 25}\n",
      "Aftera adding new dictionary: {'name': 'John', 'age': 25, 'country': 'USA'}\n"
     ]
    }
   ],
   "source": [
    "d={'name': 'John', 'age': 25}\n",
    "print(\"Original dictionary :\",d)\n",
    "d[\"country\"]=\"USA\"\n",
    "print(\"Aftera adding new dictionary:\",d)\n",
    "# o/p->\n",
    "# Original dictionary : {'name': 'John', 'age': 25}\n",
    "# Aftera adding new dictionary: {'name': 'John', 'age': 25, 'country': 'USA'}"
   ]
  },
  {
   "cell_type": "raw",
   "id": "206a11c8-8913-4a0d-b5e6-8632e876bef4",
   "metadata": {},
   "source": [
    " Q23-> Write a code to access the value associated with the key \"name\" in the dictionary {'name': 'Alice', 'age': 30}."
   ]
  },
  {
   "cell_type": "code",
   "execution_count": 12,
   "id": "49180e77-30b2-4c50-bd5f-7d460c23966a",
   "metadata": {},
   "outputs": [
    {
     "name": "stdout",
     "output_type": "stream",
     "text": [
      "Name: Alice\n"
     ]
    }
   ],
   "source": [
    "d={'name': 'Alice', 'age': 30}\n",
    "print(\"Name:\",d['name'])\n",
    "# o/p->\n",
    "# Name: Alice"
   ]
  },
  {
   "cell_type": "raw",
   "id": "e9f72a08-27d7-477c-b06a-d7f749ec53d6",
   "metadata": {},
   "source": [
    "Q24-> 24. Write a code to remove the key \"age\" from the dictionary {'name': 'Bob', 'age': 22, 'city': 'New York'}."
   ]
  },
  {
   "cell_type": "code",
   "execution_count": 13,
   "id": "eaa62823-24ea-4004-aa01-e3fd06dc11bc",
   "metadata": {},
   "outputs": [
    {
     "name": "stdout",
     "output_type": "stream",
     "text": [
      "Deleted value of 'age' key: 22\n",
      "New dictionary: {'name': 'Bob', 'city': 'New York'}\n"
     ]
    }
   ],
   "source": [
    "d={'name': 'Bob', 'age': 22, 'city': 'New York'}\n",
    "print(\"Deleted value of 'age' key:\",d.pop('age'))\n",
    "print(\"New dictionary:\",d)\n",
    "# o/p->\n",
    "# Deleted value of 'age' key: 22\n",
    "# New dictionary: {'name': 'Bob', 'city': 'New York'}"
   ]
  },
  {
   "cell_type": "raw",
   "id": "bc115d7d-838e-4cd0-a95d-d2ebca8e9b72",
   "metadata": {},
   "source": [
    " Q25-> Write a code to check if the key \"city\" exists in the dictionary {'name': 'Alice', 'city': 'Paris'}."
   ]
  },
  {
   "cell_type": "code",
   "execution_count": 16,
   "id": "17063f82-461d-4dbc-a615-f6f1ae4ae4d4",
   "metadata": {},
   "outputs": [
    {
     "name": "stdout",
     "output_type": "stream",
     "text": [
      "'city' key exists\n"
     ]
    }
   ],
   "source": [
    "d={'name': 'Alice', 'city': 'Paris'}\n",
    "if 'city' in d:\n",
    "    print(\"'city' key exists\")\n",
    "else:\n",
    "    print(\"'city' key doesn't exist\")\n",
    "# o/p->\n",
    "# 'city' key exists"
   ]
  },
  {
   "cell_type": "raw",
   "id": "6282a2ea-d958-4131-859d-254461174324",
   "metadata": {},
   "source": [
    "Q26-> Write a code to create a list, a tuple, and a dictionary, and print them all"
   ]
  },
  {
   "cell_type": "code",
   "execution_count": 17,
   "id": "7fdebf06-50d6-42f6-b796-a5dbf323ef21",
   "metadata": {},
   "outputs": [
    {
     "name": "stdout",
     "output_type": "stream",
     "text": [
      "List: [10, 20, 30, 'apple', 'banana']\n",
      "Tuple: (100, 200, 300, 'cat', 'dog')\n",
      "Dictionary: {'name': 'Alice', 'age': 25, 'city': 'New York'}\n"
     ]
    }
   ],
   "source": [
    "my_list = [10, 20, 30, \"apple\", \"banana\"]\n",
    "my_tuple = (100, 200, 300, \"cat\", \"dog\")\n",
    "my_dict = {\"name\": \"Alice\",\"age\": 25,\"city\": \"New York\"}\n",
    "print(\"List:\", my_list)\n",
    "print(\"Tuple:\", my_tuple)\n",
    "print(\"Dictionary:\", my_dict)\n",
    "# o/p->\n",
    "# List: [10, 20, 30, 'apple', 'banana']\n",
    "# Tuple: (100, 200, 300, 'cat', 'dog')\n",
    "# Dictionary: {'name': 'Alice', 'age': 25, 'city': 'New York'}"
   ]
  },
  {
   "cell_type": "raw",
   "id": "e3ad4092-bb11-4cb7-8355-ffcda9da250c",
   "metadata": {},
   "source": [
    "Q27-> Write a code to create a list of 5 random numbers between 1 and 100, sort it in ascending order, and print the result.(replaced)"
   ]
  },
  {
   "cell_type": "code",
   "execution_count": null,
   "id": "b56ecdcd-946c-4292-b866-df0c6d1b1f07",
   "metadata": {},
   "outputs": [],
   "source": [
    "l=[5,12,1,9,10]\n",
    "print(\"Before sorting:\",l)\n",
    "l.sort()\n",
    "print(\"After sorting:\",l)\n",
    "# o/p->\n",
    "# Before sorting: [5, 12, 1, 9, 10]\n",
    "# After sorting: [1, 5, 9, 10, 12]"
   ]
  },
  {
   "cell_type": "raw",
   "id": "47272a02-21ca-4361-a339-2d969c279828",
   "metadata": {},
   "source": [
    "Q28-> Write a code to create a list with strings and print the element at the third index"
   ]
  },
  {
   "cell_type": "code",
   "execution_count": 4,
   "id": "b8debb18-6890-44e9-8d58-757078b16b5c",
   "metadata": {},
   "outputs": [
    {
     "name": "stdout",
     "output_type": "stream",
     "text": [
      "List: ['abc', 'efg', 'hij', 'lmn']\n",
      "element of 3rd index: hij\n"
     ]
    }
   ],
   "source": [
    "s=\"abc,efg,hij,lmn\"\n",
    "l=list(s.split(','))\n",
    "print(\"List:\",l)\n",
    "print(\"element of 3rd index:\",l[2])"
   ]
  },
  {
   "cell_type": "raw",
   "id": "e5de8f37-4771-4e7c-8d89-e7770e1dfb00",
   "metadata": {},
   "source": [
    "Q29-> Write a code to combine two dictionaries into one and print the result."
   ]
  },
  {
   "cell_type": "code",
   "execution_count": 7,
   "id": "20f85236-c23f-4763-82c7-3132f3512dff",
   "metadata": {},
   "outputs": [
    {
     "name": "stdout",
     "output_type": "stream",
     "text": [
      "Combining two dict: {'name': 'Raj', 'city': 'New York', 'age': 25}\n"
     ]
    }
   ],
   "source": [
    "d1={'name': 'Alice', 'city': 'Paris'}\n",
    "d2={\"name\": \"Raj\",\"age\": 25,\"city\": \"New York\"}\n",
    "d1.update(d2)\n",
    "print(\"Combining two dict:\",d1)\n",
    "# o/p->\n",
    "# Combining two dict: {'name': 'Raj', 'city': 'New York', 'age': 25}"
   ]
  },
  {
   "cell_type": "raw",
   "id": "f09ea60e-adf8-4ff5-aac7-7aae11c36af6",
   "metadata": {},
   "source": [
    "Q30-> Write a code to convert a list of strings into a set."
   ]
  },
  {
   "cell_type": "code",
   "execution_count": 9,
   "id": "75f0e726-e68d-4778-b298-5dc4d5e9c0ec",
   "metadata": {},
   "outputs": [
    {
     "name": "stdout",
     "output_type": "stream",
     "text": [
      "List: ['abc', 'efg', 'hij', 'lmn']\n",
      "Set: {'lmn', 'hij', 'abc', 'efg'}\n"
     ]
    }
   ],
   "source": [
    "s=\"abc,efg,hij,lmn\"\n",
    "l=list(s.split(','))\n",
    "print(\"List:\",l)\n",
    "st=set(l)\n",
    "print(\"Set:\",st)\n",
    "# o/p->\n",
    "# List: ['abc', 'efg', 'hij', 'lmn']\n",
    "# Set: {'lmn', 'hij', 'abc', 'efg'}"
   ]
  },
  {
   "cell_type": "code",
   "execution_count": null,
   "id": "02cddba3-945a-46c1-8008-a96b02f86b4f",
   "metadata": {},
   "outputs": [],
   "source": []
  }
 ],
 "metadata": {
  "kernelspec": {
   "display_name": "Python 3 (ipykernel)",
   "language": "python",
   "name": "python3"
  },
  "language_info": {
   "codemirror_mode": {
    "name": "ipython",
    "version": 3
   },
   "file_extension": ".py",
   "mimetype": "text/x-python",
   "name": "python",
   "nbconvert_exporter": "python",
   "pygments_lexer": "ipython3",
   "version": "3.12.4"
  }
 },
 "nbformat": 4,
 "nbformat_minor": 5
}
