{
 "cells": [
  {
   "cell_type": "markdown",
   "id": "a563d27e-927c-4e3d-8cc5-01fae2646625",
   "metadata": {},
   "source": [
    "# Pythton Basic Theoratical Question"
   ]
  },
  {
   "cell_type": "markdown",
   "id": "fc120747-75b6-4440-a282-921fd61439d5",
   "metadata": {},
   "source": [
    "1. What is Python, and why is it popular ?\n",
    "  - Pyhton is a High-Level interpreted programming language\n",
    "  - Python is easy to use(Uses simple English-like syntax.)\n",
    "  - Python is Versatile and Multi-Purpose\n",
    "  - It has Large Standard Library\n",
    "\n",
    "2. What is an interpreter in Python?\n",
    "    - Interpreter in pyhton means, the code is exicuted line by line. Due to this pyhton is slower\n",
    "        compare to C and C++\n",
    "4. Can keywords be used as variable names?\n",
    "    - No, keywords can't be used as variable names \n",
    "5.  What is mutability in Python?\n",
    "    - The data structure in which elements can be changed easily by accessing them through index or       key\n",
    "6. Why are lists mutable, but tuples are immutable?\n",
    "    - List elements can be changed by accessing them through index,but in tupple element change         can't be possible\n",
    "7. What is the difference between “==” and “is” operators in Python?\n",
    "    - '==' this is a comparision operators which compare the values of two varibale\n",
    "    - 'is' operator is an identity operator which compare the reference of two object i.e two            refference pointing two same memory block or not \n",
    "8.  What are logical operators in Python?\n",
    "    - Logical operators are 'and' ,'or' ,'not'  \n",
    "9. What is type casting in Python?\n",
    "    - Conveting one data type to another is typecasting\n",
    "    - There are two type casting >> Implicit typecasting and Explicit typecas\n",
    "10. What is the difference between implicit and explicit type casting?\n",
    "    - Implicit typecasting means Python automatically converts a smaller data type to a larger          data type to avoid data loss.\n",
    "    - Explicit typecasting means we manually convert a data type using built-in functions like          int(), float(), str(), etc.\n",
    "11. What is the purpose of conditional statements in Python?\n",
    "    - Conditional statements are used to make decisions in a program based on certain conditions.       They control the flow of execution by allowing the program to perform different actions           depending on whether a condition is True or False.\n",
    "12. How does the elif statement work?\n",
    "    - 'elif' comes with 'if'\n",
    "    - It also takes condition when 'if' block don't work then it comes to 'elif' block\n",
    "    - elif (short for \"else if\") is always used with an if statement\n",
    "    - If an elif condition is True, its block executes, and the remaining elif statements are           skipped.\n",
    "13.  What is the difference between for and while loops?\n",
    "     - 'For' used when the number of iterations is known,but 'while' used when the number of              iterations is unknown and depends on a condition\n",
    "     - In 'for' condition check\titerates over a sequence (list, tuple, range, etc.)\t,but in              'while' runs as long as the condition is True\n",
    "14. Describe a scenario where a while loop is more suitable than a for loop.\n",
    "    - For menu driven programm where user input is requred along with iteration, at that case           while loop is required"
   ]
  },
  {
   "cell_type": "markdown",
   "id": "6a26bec6-20f9-435a-8fba-7653cd7147fd",
   "metadata": {},
   "source": [
    "# Practical Questions"
   ]
  },
  {
   "cell_type": "markdown",
   "id": "bbe96927-915a-4c01-9772-12a50c1c524d",
   "metadata": {},
   "source": [
    "1. Write a Python program to print \"Hello, World!\""
   ]
  },
  {
   "cell_type": "code",
   "execution_count": 1,
   "id": "53a4705d-afcf-4e4a-a23d-7dd7fbc8691c",
   "metadata": {},
   "outputs": [
    {
     "name": "stdout",
     "output_type": "stream",
     "text": [
      "Hello World\n"
     ]
    }
   ],
   "source": [
    "print(\"Hello World\")"
   ]
  },
  {
   "cell_type": "markdown",
   "id": "6991696d-893d-4d42-a609-859fa0f78a6d",
   "metadata": {},
   "source": [
    "2. Write a Python program that displays your name and age?"
   ]
  },
  {
   "cell_type": "code",
   "execution_count": 2,
   "id": "4d35b0e9-d273-49b0-b4a8-df116eba4a47",
   "metadata": {},
   "outputs": [
    {
     "name": "stdin",
     "output_type": "stream",
     "text": [
      "Enter ur name: Swayam\n",
      "Enter ur age: 20\n"
     ]
    },
    {
     "name": "stdout",
     "output_type": "stream",
     "text": [
      "name is Swayam and age is 20\n"
     ]
    }
   ],
   "source": [
    "n=input(\"Enter ur name:\")\n",
    "a=int(input(\"Enter ur age:\"))\n",
    "print(f\"name is {n} and age is {a}\")"
   ]
  },
  {
   "cell_type": "markdown",
   "id": "95d30b04-55a5-4faf-9345-4f91e5570a6b",
   "metadata": {},
   "source": [
    "3. Write code to print all the pre-defined keywords in Python using the keyword library?"
   ]
  },
  {
   "cell_type": "code",
   "execution_count": 3,
   "id": "eec51ee8-6d7f-43a5-b0ac-458aba9d5071",
   "metadata": {},
   "outputs": [
    {
     "name": "stdout",
     "output_type": "stream",
     "text": [
      "\n",
      "Here is a list of the Python keywords.  Enter any keyword to get more help.\n",
      "\n",
      "False               class               from                or\n",
      "None                continue            global              pass\n",
      "True                def                 if                  raise\n",
      "and                 del                 import              return\n",
      "as                  elif                in                  try\n",
      "assert              else                is                  while\n",
      "async               except              lambda              with\n",
      "await               finally             nonlocal            yield\n",
      "break               for                 not                 \n",
      "\n"
     ]
    }
   ],
   "source": [
    "help('keywords')"
   ]
  },
  {
   "cell_type": "markdown",
   "id": "0161d4b7-449f-4067-bbe5-5feca35bf6c3",
   "metadata": {},
   "source": [
    "4. Write a program that checks if a given word is a Python keyword?"
   ]
  },
  {
   "cell_type": "code",
   "execution_count": 6,
   "id": "6d0c2324-ebf0-45f5-936c-5abc4e2e6d10",
   "metadata": {},
   "outputs": [
    {
     "name": "stdin",
     "output_type": "stream",
     "text": [
      "Enter a word False\n"
     ]
    },
    {
     "name": "stdout",
     "output_type": "stream",
     "text": [
      "s is a keyword\n"
     ]
    }
   ],
   "source": [
    "import keyword\n",
    "s=input(\"Enter a word\")\n",
    "if keyword.iskeyword(s):\n",
    "    print(\"s is a keyword\")\n",
    "else:\n",
    "    print(\"s is not a keyword\")"
   ]
  },
  {
   "cell_type": "markdown",
   "id": "e3f2e6fb-8ac9-4003-b6e9-71fe72eb094e",
   "metadata": {},
   "source": [
    "5. Create a list and tuple in Python, and demonstrate how attempting to change an element works differently for each."
   ]
  },
  {
   "cell_type": "code",
   "execution_count": 7,
   "id": "fdedf98a-d01e-4285-854f-fd354de84de2",
   "metadata": {},
   "outputs": [
    {
     "name": "stdout",
     "output_type": "stream",
     "text": [
      "before making changes list: ['a', 1, 2.2, True]\n",
      "after making changes at 1 index list: ['a', (3+5j), 2.2, True]\n",
      "before making changes tupple :['a', (3+5j), 2.2, True]\n"
     ]
    },
    {
     "ename": "TypeError",
     "evalue": "'tuple' object does not support item assignment",
     "output_type": "error",
     "traceback": [
      "\u001b[31m---------------------------------------------------------------------------\u001b[39m",
      "\u001b[31mTypeError\u001b[39m                                 Traceback (most recent call last)",
      "\u001b[36mCell\u001b[39m\u001b[36m \u001b[39m\u001b[32mIn[7]\u001b[39m\u001b[32m, line 7\u001b[39m\n\u001b[32m      5\u001b[39m t1=(\u001b[33m'\u001b[39m\u001b[33ma\u001b[39m\u001b[33m'\u001b[39m,\u001b[32m1\u001b[39m,\u001b[32m2.2\u001b[39m,\u001b[38;5;28;01mTrue\u001b[39;00m)\n\u001b[32m      6\u001b[39m \u001b[38;5;28mprint\u001b[39m(\u001b[33mf\u001b[39m\u001b[33m\"\u001b[39m\u001b[33mbefore making changes tupple :\u001b[39m\u001b[38;5;132;01m{\u001b[39;00ml1\u001b[38;5;132;01m}\u001b[39;00m\u001b[33m\"\u001b[39m)\n\u001b[32m----> \u001b[39m\u001b[32m7\u001b[39m \u001b[43mt1\u001b[49m\u001b[43m[\u001b[49m\u001b[32;43m2\u001b[39;49m\u001b[43m]\u001b[49m=\u001b[32m3\u001b[39m+\u001b[32m5\u001b[39mj\n\u001b[32m      8\u001b[39m \u001b[38;5;28mprint\u001b[39m(\u001b[33mf\u001b[39m\u001b[33m\"\u001b[39m\u001b[33mbefore making changes tupple :\u001b[39m\u001b[38;5;132;01m{\u001b[39;00ml1\u001b[38;5;132;01m}\u001b[39;00m\u001b[33m\"\u001b[39m)\n",
      "\u001b[31mTypeError\u001b[39m: 'tuple' object does not support item assignment"
     ]
    }
   ],
   "source": [
    "l1=['a',1,2.2,True]\n",
    "print(f\"before making changes list: {l1}\")\n",
    "l1[1]=3+5j\n",
    "print(f\"after making changes at 1 index list: {l1}\")\n",
    "t1=('a',1,2.2,True)\n",
    "print(f\"before making changes tupple :{l1}\")\n",
    "t1[2]=3+5j\n",
    "print(f\"before making changes tupple :{l1}\")"
   ]
  },
  {
   "cell_type": "markdown",
   "id": "6f36125e-7c5f-46eb-b895-715097b7bd06",
   "metadata": {},
   "source": [
    "6.  Write a function to demonstrate the behavior of mutable and immutable arguments."
   ]
  },
  {
   "cell_type": "code",
   "execution_count": 8,
   "id": "cb1e55d6-1350-4f0e-96b2-4ad37139d71b",
   "metadata": {},
   "outputs": [
    {
     "name": "stdout",
     "output_type": "stream",
     "text": [
      "Inside function:\n",
      "Immutable argument: Hello World\n",
      "Mutable argument: [1, 2, 3, 4]\n",
      "\n",
      "Outside function:\n",
      "Immutable variable: Hello\n",
      "Mutable variable: [1, 2, 3, 4]\n"
     ]
    }
   ],
   "source": [
    "def demonstrate_mutability(immutable_arg, mutable_arg):\n",
    "    immutable_arg += \" World\" \n",
    "    mutable_arg.append(4)  \n",
    "    print(\"Inside function:\")\n",
    "    print(f\"Immutable argument: {immutable_arg}\")  \n",
    "    print(f\"Mutable argument: {mutable_arg}\")\n",
    "immutable_var = \"Hello\"\n",
    "mutable_var = [1, 2, 3]\n",
    "demonstrate_mutability(immutable_var, mutable_var)\n",
    "print(\"\\nOutside function:\")\n",
    "print(f\"Immutable variable: {immutable_var}\")  \n",
    "print(f\"Mutable variable: {mutable_var}\")"
   ]
  },
  {
   "cell_type": "markdown",
   "id": "cb57d74c-52b0-4daa-8a4e-721d1e4e4028",
   "metadata": {},
   "source": [
    "7.  Write a program that performs basic arithmetic operations on two user-input numbers."
   ]
  },
  {
   "cell_type": "code",
   "execution_count": 1,
   "id": "55560223-3433-4cf3-99c5-034aac4b5dee",
   "metadata": {},
   "outputs": [
    {
     "name": "stdin",
     "output_type": "stream",
     "text": [
      "Enter 1st number: 5\n",
      "Enter 2nd number: 6\n"
     ]
    },
    {
     "name": "stdout",
     "output_type": "stream",
     "text": [
      "addition : 5+6 = 11\n",
      "substraction : 5-6 = -1\n",
      "multiplication : 5*6 = 30\n",
      "division : 5/6 = 0.8333333333333334\n",
      "modulo : 5%6 = 5\n",
      "power : 5**6 = 15625\n"
     ]
    }
   ],
   "source": [
    " a=int(input(\"Enter 1st number:\"))\n",
    " b=int(input(\"Enter 2nd number:\"))\n",
    "print(f\"addition : {a}+{b} =\",(a+b))\n",
    "print(f\"substraction : {a}-{b} =\",(a-b))\n",
    "print(f\"multiplication : {a}*{b} =\",(a*b))\n",
    "print(f\"division : {a}/{b} =\",(a/b))\n",
    "print(f\"modulo : {a}%{b} =\",(a%b))\n",
    "print(f\"power : {a}**{b} =\",(a**b))"
   ]
  },
  {
   "cell_type": "markdown",
   "id": "3d2f760f-154f-4c1d-85b7-94d23acbe5fa",
   "metadata": {},
   "source": [
    "8. Write a program to demonstrate the use of logical operators."
   ]
  },
  {
   "cell_type": "code",
   "execution_count": 4,
   "id": "34914468-c367-4962-9088-5a1cdd8ac632",
   "metadata": {},
   "outputs": [
    {
     "name": "stdout",
     "output_type": "stream",
     "text": [
      "t or f : True\n",
      "t and f : False\n",
      "not f : True\n"
     ]
    }
   ],
   "source": [
    "t = True\n",
    "f = False\n",
    "print(f\"t or f :\",t or f)\n",
    "print(f\"t and f :\",t and f)\n",
    "print(f\"not f :\",not f)"
   ]
  },
  {
   "cell_type": "markdown",
   "id": "c73af59a-185e-4d41-aa77-a088c11c653c",
   "metadata": {},
   "source": [
    "9. Write a Python program to convert user input from string to integer, float, and boolean types."
   ]
  },
  {
   "cell_type": "code",
   "execution_count": 6,
   "id": "acafd978-e778-420b-93b3-1c704aaf6c42",
   "metadata": {},
   "outputs": [
    {
     "name": "stdin",
     "output_type": "stream",
     "text": [
      "Enter a number: 11\n"
     ]
    },
    {
     "name": "stdout",
     "output_type": "stream",
     "text": [
      "s in integer =11 and type = <class 'int'>\n",
      "s in float =11.0 and type = <class 'float'>\n",
      "s in boolean =True and type = <class 'bool'>\n"
     ]
    }
   ],
   "source": [
    "s=input(\"Enter a number:\")\n",
    "print(f\"s in integer ={int(s)} and type = {type(int(s))}\")\n",
    "print(f\"s in float ={float(s)} and type = {type(float(s))}\")\n",
    "print(f\"s in boolean ={bool(s)} and type = {type(bool(s))}\")"
   ]
  },
  {
   "cell_type": "markdown",
   "id": "8921a816-546b-4e3f-a094-2bee287e0755",
   "metadata": {},
   "source": [
    "10. Write code to demonstrate type casting with list elements."
   ]
  },
  {
   "cell_type": "code",
   "execution_count": 7,
   "id": "7a217c58-c09d-4df1-9817-f8749bd2869f",
   "metadata": {},
   "outputs": [
    {
     "name": "stdout",
     "output_type": "stream",
     "text": [
      "lsit l1 before typcasting:['abc', 1, 2.2, (3+5j)] and type: <class 'list'>\n",
      "lsit l1 after typcasting to tupple:('abc', 1, 2.2, (3+5j)) and type: <class 'tuple'>\n"
     ]
    }
   ],
   "source": [
    "l1=[\"abc\",1,2.2,3+5j]\n",
    "print(f\"lsit l1 before typcasting:{l1} and type: {type(l1)}\")\n",
    "l1=tuple(l1)\n",
    "print(f\"lsit l1 after typcasting to tupple:{l1} and type: {type(l1)}\")"
   ]
  },
  {
   "cell_type": "markdown",
   "id": "9aa51d3c-1abf-4492-858a-1fb6bb157d7d",
   "metadata": {},
   "source": [
    "11. Write a program that checks if a number is positive, negative, or zero."
   ]
  },
  {
   "cell_type": "code",
   "execution_count": 8,
   "id": "265c9442-7151-46f5-9650-e9bb0e782025",
   "metadata": {},
   "outputs": [
    {
     "name": "stdin",
     "output_type": "stream",
     "text": [
      "Enter a number:  5\n"
     ]
    },
    {
     "name": "stdout",
     "output_type": "stream",
     "text": [
      "5 is +ve\n"
     ]
    }
   ],
   "source": [
    "inpt = int(input(\"Enter a number: \"))\n",
    "if inpt>=0:\n",
    "    if inpt==0:\n",
    "        print(f\"{inpt} is 0\")\n",
    "    else:\n",
    "        print(f\"{inpt} is +ve\")\n",
    "else:\n",
    "    print(f\"{inpt} is -ve\")"
   ]
  },
  {
   "cell_type": "markdown",
   "id": "ba107dd0-25b7-4a7e-81ce-136297b359ea",
   "metadata": {},
   "source": [
    "12. Write a for loop to print numbers from 1 to 10."
   ]
  },
  {
   "cell_type": "code",
   "execution_count": 9,
   "id": "6d4e42d6-fbe5-4d38-a4ef-7a6a29308bb3",
   "metadata": {},
   "outputs": [
    {
     "name": "stdout",
     "output_type": "stream",
     "text": [
      "1,2,3,4,5,6,7,8,9,10,"
     ]
    }
   ],
   "source": [
    "for i in range(1,11):\n",
    "    print(f\"{i}\",end=\",\")"
   ]
  },
  {
   "cell_type": "markdown",
   "id": "30495cfd-6189-49ce-83f2-5e6c4c601d17",
   "metadata": {},
   "source": [
    "13. Write a Python program to find the sum of all even numbers between 1 and 50"
   ]
  },
  {
   "cell_type": "code",
   "execution_count": 12,
   "id": "533ec8a6-f520-4eac-93c0-c5e41f481265",
   "metadata": {},
   "outputs": [
    {
     "name": "stdout",
     "output_type": "stream",
     "text": [
      "sum of all even numbers = 650\n"
     ]
    }
   ],
   "source": [
    "s=0\n",
    "for i in range(0,51,2):\n",
    "    s+=i\n",
    "print(f\"sum of all even numbers = {s}\")"
   ]
  },
  {
   "cell_type": "markdown",
   "id": "fb8a2166-dd31-4620-86cd-65afcb18f2ad",
   "metadata": {},
   "source": [
    "14. Write a program to reverse a string using a while loop."
   ]
  },
  {
   "cell_type": "code",
   "execution_count": 17,
   "id": "02f88f19-0ddc-4cd9-939f-bbdf5e99c99a",
   "metadata": {},
   "outputs": [
    {
     "name": "stdin",
     "output_type": "stream",
     "text": [
      "Enter a string: Swayam\n"
     ]
    },
    {
     "name": "stdout",
     "output_type": "stream",
     "text": [
      "reverse of Swayam = mayawS\n"
     ]
    }
   ],
   "source": [
    "s = input(\"Enter a string:\")\n",
    "i=1\n",
    "sr=\"\"\n",
    "while(i!=len(s)+1):\n",
    "    sr+=s[-i]\n",
    "    i+=1\n",
    "print(f\"reverse of {s} = {sr}\")"
   ]
  },
  {
   "cell_type": "markdown",
   "id": "66458db3-7f68-4d28-9341-a2927fb732cb",
   "metadata": {},
   "source": [
    "15. Write a Python program to calculate the factorial of a number provided by the user using a while loop."
   ]
  },
  {
   "cell_type": "code",
   "execution_count": 30,
   "id": "1670468d-a7b0-49aa-8598-bb7006433fcf",
   "metadata": {},
   "outputs": [
    {
     "name": "stdin",
     "output_type": "stream",
     "text": [
      "Enter a number:  5\n"
     ]
    },
    {
     "name": "stdout",
     "output_type": "stream",
     "text": [
      "Factorial is 120\n"
     ]
    }
   ],
   "source": [
    "f = int(input(\"Enter a number: \"))\n",
    "fact = 1\n",
    "if f < 0:\n",
    "    print(\"Factorial is not defined for negative numbers.\")\n",
    "else:\n",
    "    while f > 0:\n",
    "        fact *= f\n",
    "        f -= 1\n",
    "    print(f\"Factorial is {fact}\")"
   ]
  },
  {
   "cell_type": "code",
   "execution_count": null,
   "id": "730e34d8-362d-4ebb-b720-489028968626",
   "metadata": {},
   "outputs": [],
   "source": []
  }
 ],
 "metadata": {
  "kernelspec": {
   "display_name": "Python 3 (ipykernel)",
   "language": "python",
   "name": "python3"
  },
  "language_info": {
   "codemirror_mode": {
    "name": "ipython",
    "version": 3
   },
   "file_extension": ".py",
   "mimetype": "text/x-python",
   "name": "python",
   "nbconvert_exporter": "python",
   "pygments_lexer": "ipython3",
   "version": "3.12.4"
  }
 },
 "nbformat": 4,
 "nbformat_minor": 5
}
