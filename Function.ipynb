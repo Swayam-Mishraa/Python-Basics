{
 "cells": [
  {
   "cell_type": "markdown",
   "id": "d53a8cdb-bd3c-414e-9207-b0d076bba3ce",
   "metadata": {},
   "source": [
    "# Function Theory Questions:"
   ]
  },
  {
   "cell_type": "raw",
   "id": "ca43496e-eb16-4f6e-9569-63cf5680cceb",
   "metadata": {},
   "source": [
    "1. What is the difference between a function and a method in Python?\n",
    "   - Function defined using 'def' keyword      - Method defined iniside a class\n",
    "      outside of a class \n",
    "   - Function can directly be called by        - Method is called by it's object name in\n",
    "     it's name                                   which class it is made\n",
    "   -  eg-> def fun_nm(arg):                    - class A:\n",
    "                function_body                       def func_nm:\n",
    "                                                         func_body\n",
    "\n",
    "2. Explain the concept of function arguments and parameters in Python.\n",
    "    - Parameter are the variables that listed inside function\n",
    "    - Argument are the actual values that are passed into the function while callin\n",
    "    - eg def func_nm(arg): / here arg is the parameter\n",
    "            a=5\n",
    "            return a+arg\n",
    "      func_nm(5)// here arg=5 is argument  \n",
    "3. What are the different ways to define and call a function in Python?\n",
    "    - According to argument and return type functions are of 4 types:\n",
    "    - function with no return type and no argument\n",
    "          eg-> def func():\n",
    "                  print(\"Hello\")\n",
    "    - function with return type and no argument\n",
    "          eg-> def func():\n",
    "                  a=5\n",
    "                  return 5\n",
    "    - function with no return type and argument\n",
    "          eg-> def func(arg):\n",
    "                  a=5+arg\n",
    "                  print(a)\n",
    "    - function with return type and argument\n",
    "          eg-> def func(arg):\n",
    "                  a=5+arg\n",
    "                  return a\n",
    "    - According Arguments functions are of 3 types:\n",
    "    - Default Arguments: Here if we don't provide any argument function has already a defult            argument which can be used\n",
    "      eg-> def sum_(a=0, b=0, c=0):\n",
    "            return a+b+c\n",
    "           sum_(2,3)\n",
    "            5\n",
    "    - Variable length args: Here function accept a variable number of arguments\n",
    "    - It is of two types:\n",
    "       - *args (Arbitrary Arguments): It allows a function to accept any number of positional\n",
    "                                       args.\n",
    "                                      eg->def my_function(*args):\n",
    "                                            for arg in args:\n",
    "                                                print(arg,end=\",\")\n",
    "                                           my_function(1, 2, 3)\n",
    "                                          o/p-> 1,2,3\n",
    "       - **kwargs (Keyword Arguments):It allows a function to accept any number of keyword args\n",
    "                                      eg-> def my_function(**kwargs):\n",
    "                                                for key, value in kwargs.items():\n",
    "                                                    print(f\"{key}: {value}\")\n",
    "                                           my_function(a=1, b=2, c=3)\n",
    "                                          o/p->  a: 1\n",
    "                                                 b: 2\n",
    "                                                 c: 3\n",
    "4. What is the purpose of the `return` statement in a Python function?\n",
    "    - It return the values inside a function\n",
    "    - eg-> def func(arg):\n",
    "               a=5+arg\n",
    "               return a\n",
    "    - It also decide the type of the function. If we didn't return any thing it will give none          type \n",
    "5. What are iterators in Python and how do they differ from iterables?\n",
    "    - Iterator is an object representing a stream of data >> return the data one by one\n",
    "    - Iterable is any python obj/sequential str/data str that is capable of returning its member        one at a time\n",
    "    - Iterator manly convert the Iterable into iterator object for Iteration using 'iter()'             function\n",
    "    - eg-> s=\"abc\" // here s is an iterable but not an iterator objec\n",
    "           s=iter(s) // now it becomes a iterator object\n",
    "           // now it is ready for iteration\n",
    "           print(next(s))\n",
    "           print(next(s))\n",
    "           print(next(s))\n",
    "          o/p-> a\n",
    "                b\n",
    "                c\n",
    "6. Explain the concept of generators in Python and how they are defined.\n",
    "    - Generators are the function which create iterators in a more concise and memory-efficient         manner\n",
    "    - These functions allow to iterate over a potentially large sequence of data without                loading the entire sequence into memory.\n",
    "    - Instead of using return to send a value back to the caller, a generator function use‘yield’.\n",
    "      When the generator function encounters a ‘yield’ statement, it returns the value specified        in the yield and pauses its execution state.\n",
    "    - eg-> def square_number_generators(n):\n",
    "            for i in range(n):\n",
    "                yield i**2\n",
    "            square_number_generators(10)\n",
    "            print(next(gen))\n",
    "            print(next(gen))\n",
    "            print(next(gen))\n",
    "            O/P-> 0\n",
    "                  1\n",
    "                  4\n",
    "      \n",
    "7. What are the advantages of using generators over regular functions?\n",
    "   - Regular function returns values in one go which takes lot of memory usage for big values\n",
    "   - But generators use yeild which return the values one by one which make it more memory             efficient\n",
    "   - eg->Computing square number of n numbers using regular function and generator\n",
    "        - Using regular function:\n",
    "             def square_number(n):\n",
    "                result = []\n",
    "                for i in range(n):\n",
    "                    result.append(i ** 2)\n",
    "                return result\n",
    "            square_number(10)// if we take 1000 instead of 10 it will more ram of our pc\n",
    "        - Using regular function:\n",
    "               def square_number_generators(n):\n",
    "                    for i in range(n):\n",
    "                        yield i**2\n",
    "          // if we though take large number like 10000 we can call it by one by one using next()\n",
    "              as it creates the generator object \n",
    "8. What is a lambda function in Python and when is it typically used?\n",
    "    - Lambda function is short version of regular function\n",
    "    - It reduces the code length\n",
    "    - It uses 'lambda' keyword\n",
    "    - syntax \"lambda arg: arg\"\n",
    "    - It is used mainly inside map(),reduce(),filter() function as we don't have to define a            regular function and we can write lambda function inside these function easily\n",
    "    - eg->  l = [1,2,3,4,5]\n",
    "            //square each element but using map\n",
    "            print(map(lambda x:x**2,l))\n",
    "            o/p->[1, 4, 9, 16, 25] \n",
    "9. Explain the purpose and usage of the `map()` function in Python.\n",
    "    - 'map()' function specially execute a specified function for each of item of an iterable\n",
    "    - eg-> #adding two list using map\n",
    "            l1=[187,233,319,455]\n",
    "            l2=[299,399,187,765]\n",
    "            print(list(map(lambda x,y:x+y,l1,l2)))\n",
    "            o/p->[486, 632, 506, 1220]\n",
    "10. What is the difference between `map()`, `reduce()`, and `filter()` functions in Python?\n",
    "    - The map() function applies a given function to each element in an iterable.\n",
    "    - eg-> numbers = [1, 2, 3, 4, 5]\n",
    "           squared = map(lambda x: x ** 2, numbers)\n",
    "           print(list(squared))  # Output: [1, 4, 9, 16, 25]\n",
    "    - The  reduce() reduces the iterable into a single value by applying a function cumulatively.\n",
    "    - eg-> from functools import reduce\n",
    "            numbers = [1, 2, 3, 4, 5]\n",
    "            total = reduce(lambda x, y: x + y, numbers)\n",
    "            print(total)  # Output: 15\n",
    "    - The filter() function removes elements that do not satisfy a given condition (i.e., returns       False).\n",
    "    - eg-> numbers = [1, 2, 3, 4, 5, 6]\n",
    "           evens = filter(lambda x: x % 2 == 0, numbers)\n",
    "           print(list(evens))  # Output: [2, 4, 6]\n",
    "11. Using pen & Paper write the internal mechanism for sum operation using  reduce function on this given list:[47,11,42,13]?\n",
    "    - ![Image](ans.jpg)"
   ]
  },
  {
   "cell_type": "markdown",
   "id": "19a50589-cbd2-4c09-9d71-e51be2f6a6c8",
   "metadata": {},
   "source": [
    "# Practical Questions:"
   ]
  },
  {
   "cell_type": "markdown",
   "id": "759583d8-1745-4eed-ac5d-1c96507df90a",
   "metadata": {},
   "source": [
    "1. Write a Python function that takes a list of numbers as input and returns the sum of all even numbers in the list."
   ]
  },
  {
   "cell_type": "code",
   "execution_count": 2,
   "id": "91e0dcd2-e731-47b6-a7a7-7f8b91efff1c",
   "metadata": {},
   "outputs": [
    {
     "name": "stdin",
     "output_type": "stream",
     "text": [
      "Enter number of (list within []): [1,2,4,5,7,8]\n"
     ]
    },
    {
     "name": "stdout",
     "output_type": "stream",
     "text": [
      "Sum of all even numbers is:  14\n"
     ]
    }
   ],
   "source": [
    "from functools import reduce\n",
    "def sum_of_even(l):\n",
    "    s=0\n",
    "    for i in l:\n",
    "        if i%2==0:\n",
    "            s+=i\n",
    "    return s\n",
    "l = eval(input(\"Enter number of (list within []):\"))\n",
    "print(\"Sum of all even numbers is: \",sum_of_even(l))"
   ]
  },
  {
   "cell_type": "markdown",
   "id": "f8cd47ef-56cc-4522-8bc2-5eb387a53b22",
   "metadata": {},
   "source": [
    "2. Create a Python function that accepts a string and returns the reverse of that string."
   ]
  },
  {
   "cell_type": "code",
   "execution_count": 7,
   "id": "399cd4f7-db7c-46a2-8fce-0552f12b9fec",
   "metadata": {},
   "outputs": [
    {
     "name": "stdin",
     "output_type": "stream",
     "text": [
      "Enter a string: abc\n"
     ]
    },
    {
     "name": "stdout",
     "output_type": "stream",
     "text": [
      "Reverse of abc is cba\n"
     ]
    }
   ],
   "source": [
    "def reverse_string(s):\n",
    "    rs = s[::-1]\n",
    "    return rs\n",
    "s = input(\"Enter a string:\")\n",
    "print(f\"Reverse of {s} is {reverse_string(s)}\")"
   ]
  },
  {
   "cell_type": "markdown",
   "id": "52c42879-c316-43f3-b089-b2965471e77e",
   "metadata": {},
   "source": [
    "3. Implement a Python function that takes a list of integers and returns a new list containing the squares of each number."
   ]
  },
  {
   "cell_type": "code",
   "execution_count": 1,
   "id": "5d1113ef-3e1b-4368-a6b6-933747eb95be",
   "metadata": {},
   "outputs": [
    {
     "name": "stdin",
     "output_type": "stream",
     "text": [
      "Enter number of (list within []): [1,2,5,7]\n"
     ]
    },
    {
     "name": "stdout",
     "output_type": "stream",
     "text": [
      "orignal list: [1, 2, 5, 7]\n",
      "squared list: [1, 4, 25, 49]\n"
     ]
    }
   ],
   "source": [
    "l = eval(input(\"Enter number of (list within []):\"))\n",
    "print(f\"orignal list: {l}\")\n",
    "l2= list(map(lambda x:x**2,l))\n",
    "print(f\"squared list: {l2}\")"
   ]
  },
  {
   "cell_type": "markdown",
   "id": "e501774e-083c-42c3-a4bc-56e217923d57",
   "metadata": {},
   "source": [
    "4. Write a Python function that checks if a given number is prime or not from 1 to 200."
   ]
  },
  {
   "cell_type": "code",
   "execution_count": 10,
   "id": "601f83da-d4e2-4a46-b12b-c89cf9309da5",
   "metadata": {},
   "outputs": [
    {
     "name": "stdin",
     "output_type": "stream",
     "text": [
      "Enter a number to check: 9\n"
     ]
    },
    {
     "name": "stdout",
     "output_type": "stream",
     "text": [
      "9 is not prime\n"
     ]
    }
   ],
   "source": [
    "def check_prime(n):\n",
    "    c=0\n",
    "    i=1\n",
    "    for i in range(1,n+1):\n",
    "        if n%i==0:\n",
    "            c+=1\n",
    "    if c<=2:\n",
    "        print(f\"{n} is prime\")\n",
    "    else:\n",
    "        print(f\"{n} is not prime\")\n",
    "n = int(input(\"Enter a number to check:\"))\n",
    "check_prime(n)"
   ]
  },
  {
   "cell_type": "markdown",
   "id": "5f67e0ff-7f4f-4970-a962-2fbc4b4a4d1a",
   "metadata": {},
   "source": [
    "5. Create an iterator class in Python that generates the Fibonacci sequence up to a specified number of terms."
   ]
  },
  {
   "cell_type": "code",
   "execution_count": 11,
   "id": "c792b232-1081-4d23-b536-6dae0d8345a3",
   "metadata": {},
   "outputs": [
    {
     "name": "stdin",
     "output_type": "stream",
     "text": [
      "Enter a number:  5\n"
     ]
    },
    {
     "name": "stdout",
     "output_type": "stream",
     "text": [
      "<generator object fibonacci at 0x000001C1C12E60A0>\n",
      "[0, 1, 1, 2, 3]\n"
     ]
    }
   ],
   "source": [
    "def fibonacci(n):\n",
    "    a = 0\n",
    "    b = 1\n",
    "    for i in range(n):\n",
    "        yield a \n",
    "        temp = a  \n",
    "        a = b  \n",
    "        b = temp + b\n",
    "n = int(input(\"Enter a number: \"))\n",
    "print(fibonacci(n))  \n",
    "print(list(fibonacci(n)))  "
   ]
  },
  {
   "cell_type": "markdown",
   "id": "729ac12b-b902-4056-9501-1cbb8bf64901",
   "metadata": {},
   "source": [
    "6. Write a generator function in Python that yields the powers of 2 up to a given exponent."
   ]
  },
  {
   "cell_type": "code",
   "execution_count": 15,
   "id": "c3ceacea-2a54-4056-a1ba-e60adb0f79d9",
   "metadata": {},
   "outputs": [
    {
     "name": "stdin",
     "output_type": "stream",
     "text": [
      "Enter a number:  4\n"
     ]
    },
    {
     "name": "stdout",
     "output_type": "stream",
     "text": [
      "2\n",
      "4\n",
      "8\n",
      "16\n"
     ]
    }
   ],
   "source": [
    "def power_of_2(n):\n",
    "    mult=1\n",
    "    for i in range(0,n+1):\n",
    "        mult*=2\n",
    "        yield mult\n",
    "n = int(input(\"Enter a number: \"))\n",
    "p = power_of_2(n)\n",
    "for i in range(1,n+1):\n",
    "    print(next(p))"
   ]
  },
  {
   "cell_type": "markdown",
   "id": "5f7d68db-53f1-4fa6-a704-eef9af86a67d",
   "metadata": {},
   "source": [
    "7. Implement a generator function that reads a file line by line and yields each line as a string."
   ]
  },
  {
   "cell_type": "code",
   "execution_count": null,
   "id": "30ea832d-65e0-44d3-9297-7d5842516dc9",
   "metadata": {},
   "outputs": [],
   "source": []
  },
  {
   "cell_type": "markdown",
   "id": "6b41cd4e-ef10-420e-be0f-90121fe3349b",
   "metadata": {},
   "source": [
    "8. Use a lambda function in Python to sort a list of tuples based on the second element of each tuple."
   ]
  },
  {
   "cell_type": "code",
   "execution_count": 21,
   "id": "f99b9bf7-2747-4759-806f-7c8cc884ca44",
   "metadata": {},
   "outputs": [
    {
     "name": "stdout",
     "output_type": "stream",
     "text": [
      "before sorting [(1, 3), (4, 1), (2, 2), (5, 0)]\n",
      "after sorting [(5, 0), (4, 1), (2, 2), (1, 3)]\n"
     ]
    }
   ],
   "source": [
    "t1 = [(1, 3), (4, 1), (2, 2), (5, 0)]\n",
    "t2 = sorted(t1,key = lambda x:x[1])\n",
    "print(f\"before sorting {t1}\")\n",
    "print(f\"after sorting {t2}\")"
   ]
  },
  {
   "cell_type": "markdown",
   "id": "8659fc19-5cee-490e-8646-50ddef4da479",
   "metadata": {},
   "source": [
    "9. Write a Python program that uses `map()` to convert a list of temperatures from Celsius to Fahrenheit."
   ]
  },
  {
   "cell_type": "code",
   "execution_count": 22,
   "id": "8a3a0aa2-d2b8-4b1d-92b2-3aa630032aec",
   "metadata": {},
   "outputs": [
    {
     "name": "stdout",
     "output_type": "stream",
     "text": [
      "after converting celcius [21, 25, 19, 35, 41] to fahrenheit [69.8, 77.0, 66.2, 95.0, 105.8]\n"
     ]
    }
   ],
   "source": [
    "list_of_celcius = [21,25,19,35,41]\n",
    "list_of_fahrenheit = list(map(lambda x:(x * 9/5) + 32,list_of_celcius))\n",
    "print(f\"after converting celcius {list_of_celcius} to fahrenheit {list_of_fahrenheit}\")"
   ]
  },
  {
   "cell_type": "markdown",
   "id": "385f8add-ab04-46bb-961f-72e889d8a894",
   "metadata": {},
   "source": [
    "10. Create a Python program that uses `filter()` to remove all the vowels from a given string."
   ]
  },
  {
   "cell_type": "code",
   "execution_count": 30,
   "id": "b4675ca0-fac8-460c-abad-1fe3fa36b49a",
   "metadata": {},
   "outputs": [
    {
     "name": "stdout",
     "output_type": "stream",
     "text": [
      "after removal of vowels: bcsdf\n"
     ]
    }
   ],
   "source": [
    "s = \"abceiousdf\"\n",
    "s2 = \"\".join((filter(lambda x:x not in \"aeiou\",s)))\n",
    "print(f\"after removal of vowels: {s2}\")"
   ]
  },
  {
   "cell_type": "markdown",
   "id": "bdb67b59-069d-4d7f-8306-17bd3c298066",
   "metadata": {},
   "source": [
    "11. Write a Python program, which returns a list with 2-tuples. Each tuple consists of the order number and the product of the price per item and the quantity. The product should be increased by 10,- € if the value of the order is smaller than 100,00 €.\n",
    "\n",
    "Write a Python program using lambda and map."
   ]
  },
  {
   "cell_type": "code",
   "execution_count": 1,
   "id": "6b6dbf44-c6c5-46d3-a7b4-5f08cc6d48a8",
   "metadata": {},
   "outputs": [
    {
     "name": "stdout",
     "output_type": "stream",
     "text": [
      "[(34587, 163.8), (98762, 284.0), (77226, 108.85000000000001), (88112, 84.97)]\n"
     ]
    }
   ],
   "source": [
    "list_of_books= [\n",
    "                [34587,\"Learning Python,Mark Lutz\",4,40.95],\n",
    "                [98762,\"Programming Python,Mark Lutz\",5,56.80],\n",
    "                [77226,\"Head First Python,Paul Barry\",3,32.95],\n",
    "                [88112,\"Einfuhrung in Python Bernd Klein\",3,24.99]\n",
    "                ]\n",
    "l2 = list(map(lambda x:(x[0],x[2]*x[3]+(10 if x[2]*x[3]<100 else 0)),list_of_books))\n",
    "print(l2)"
   ]
  },
  {
   "cell_type": "markdown",
   "id": "ffe2ba54-bf5b-45f7-87e5-cbc04c8dd0ba",
   "metadata": {},
   "source": [
    "12. Implement a class Student with attributes name and grades. Create a method average_grade() to compute\n",
    "the average of the grades."
   ]
  },
  {
   "cell_type": "code",
   "execution_count": 4,
   "id": "0e2931e7-e1e7-4e88-8d67-e8ad3fc80d32",
   "metadata": {},
   "outputs": [
    {
     "name": "stdout",
     "output_type": "stream",
     "text": [
      "Alice's average grade: 84.33333333333333\n"
     ]
    }
   ],
   "source": [
    "class Student:\n",
    "    def __init__(self, name, grades):\n",
    "        self.name = name\n",
    "        self.grades = grades  \n",
    "\n",
    "    def average_grade(self):\n",
    "        if self.grades:\n",
    "            return sum(self.grades) / len(self.grades)\n",
    "        else:\n",
    "            return 0.0\n",
    "\n",
    "s1 = Student(\"Alice\", [85, 90, 78])\n",
    "print(f\"{s1.name}'s average grade: {s1.average_grade()}\")\n"
   ]
  },
  {
   "cell_type": "markdown",
   "id": "75c23aa2-b0d8-428c-baca-cef97ef3c4c3",
   "metadata": {},
   "source": [
    "13. Create a class Rectangle with methods set_dimensions() to set the dimensions and area() to calculate the\n",
    "area."
   ]
  },
  {
   "cell_type": "code",
   "execution_count": 5,
   "id": "47e656fa-242f-4304-ae25-15994db7dc53",
   "metadata": {},
   "outputs": [
    {
     "name": "stdout",
     "output_type": "stream",
     "text": [
      "Area of rectangle: 50\n"
     ]
    }
   ],
   "source": [
    "class Rectangle:\n",
    "    def __init__(self):\n",
    "        self.length = 0\n",
    "        self.width = 0\n",
    "\n",
    "    def set_dimensions(self, length, width):\n",
    "        self.length = length\n",
    "        self.width = width\n",
    "\n",
    "    def area(self):\n",
    "        return self.length * self.width\n",
    "\n",
    "rect = Rectangle()\n",
    "rect.set_dimensions(5, 10)\n",
    "print(f\"Area of rectangle: {rect.area()}\")\n"
   ]
  },
  {
   "cell_type": "markdown",
   "id": "f1d4a4fe-0dee-40d6-b028-d80a984edee8",
   "metadata": {},
   "source": [
    "14. Create a class Employee with a method calculate_salary() that computes the salary based on hours worked\n",
    "and hourly rate. Create a derived class Manager that adds a bonus to the salary."
   ]
  },
  {
   "cell_type": "code",
   "execution_count": 6,
   "id": "e05acc38-a709-487d-a3af-a6a7949b309e",
   "metadata": {},
   "outputs": [
    {
     "name": "stdout",
     "output_type": "stream",
     "text": [
      "Employee Salary: $800\n",
      "Manager Salary: $1500\n"
     ]
    }
   ],
   "source": [
    "class Employee:\n",
    "    def __init__(self, hours_worked, hourly_rate):\n",
    "        self.hours_worked = hours_worked\n",
    "        self.hourly_rate = hourly_rate\n",
    "\n",
    "    def calculate_salary(self):\n",
    "        return self.hours_worked * self.hourly_rate\n",
    "\n",
    "class Manager(Employee):\n",
    "    def __init__(self, hours_worked, hourly_rate, bonus):\n",
    "        super().__init__(hours_worked, hourly_rate)\n",
    "        self.bonus = bonus\n",
    "\n",
    "    def calculate_salary(self):\n",
    "        base_salary = super().calculate_salary()\n",
    "        return base_salary + self.bonus\n",
    "emp = Employee(40, 20)\n",
    "print(f\"Employee Salary: ${emp.calculate_salary()}\")\n",
    "\n",
    "mgr = Manager(40, 25, 500)\n",
    "print(f\"Manager Salary: ${mgr.calculate_salary()}\")\n"
   ]
  },
  {
   "cell_type": "markdown",
   "id": "9fb6611c-2ce9-41ae-8c8a-a6b3fbd11dc7",
   "metadata": {},
   "source": [
    "15. Create a class Product with attributes name, price, and quantity. Implement a method total_price() that\n",
    "calculates the total price of the product.\n",
    "\n"
   ]
  },
  {
   "cell_type": "code",
   "execution_count": 7,
   "id": "6b121933-ea18-499c-90c7-5ef4a7b717af",
   "metadata": {},
   "outputs": [
    {
     "name": "stdout",
     "output_type": "stream",
     "text": [
      "Total price for Laptop: $1600\n"
     ]
    }
   ],
   "source": [
    "class Product:\n",
    "    def __init__(self, name, price, quantity):\n",
    "        self.name = name\n",
    "        self.price = price\n",
    "        self.quantity = quantity\n",
    "\n",
    "    def total_price(self):\n",
    "        return self.price * self.quantity\n",
    "p = Product(\"Laptop\", 800, 2)\n",
    "print(f\"Total price for {p.name}: ${p.total_price()}\")\n"
   ]
  },
  {
   "cell_type": "markdown",
   "id": "8902144d-66b6-4fb1-b768-faedd5e4608a",
   "metadata": {},
   "source": [
    "16. Create a class Animal with an abstract method sound(). Create two derived classes Cow and Sheep that\n",
    "implement the sound() method."
   ]
  },
  {
   "cell_type": "code",
   "execution_count": 8,
   "id": "e918205f-5ce8-4828-ae6d-ea3761753788",
   "metadata": {},
   "outputs": [
    {
     "name": "stdout",
     "output_type": "stream",
     "text": [
      "Cow says: Moo\n",
      "Sheep says: Baa\n"
     ]
    }
   ],
   "source": [
    "from abc import ABC, abstractmethod\n",
    "\n",
    "class Animal(ABC):\n",
    "    @abstractmethod\n",
    "    def sound(self):\n",
    "        pass\n",
    "\n",
    "class Cow(Animal):\n",
    "    def sound(self):\n",
    "        return \"Moo\"\n",
    "\n",
    "class Sheep(Animal):\n",
    "    def sound(self):\n",
    "        return \"Baa\"\n",
    "c = Cow()\n",
    "s = Sheep()\n",
    "print(f\"Cow says: {c.sound()}\")\n",
    "print(f\"Sheep says: {s.sound()}\")\n"
   ]
  },
  {
   "cell_type": "markdown",
   "id": "a23a0c7f-85d5-4db5-956d-f304bd30ea50",
   "metadata": {},
   "source": [
    "17. Create a class Book with attributes title, author, and year_published. Add a method get_book_info() that\n",
    "returns a formatted string with the book's details."
   ]
  },
  {
   "cell_type": "code",
   "execution_count": 9,
   "id": "25c62d12-71fe-4122-8876-9fa26b51a0e3",
   "metadata": {},
   "outputs": [
    {
     "name": "stdout",
     "output_type": "stream",
     "text": [
      "'1984' by George Orwell, published in 1949\n"
     ]
    }
   ],
   "source": [
    "class Book:\n",
    "    def __init__(self, title, author, year_published):\n",
    "        self.title = title\n",
    "        self.author = author\n",
    "        self.year_published = year_published\n",
    "\n",
    "    def get_book_info(self):\n",
    "        return f\"'{self.title}' by {self.author}, published in {self.year_published}\"\n",
    "b = Book(\"1984\", \"George Orwell\", 1949)\n",
    "print(b.get_book_info())\n"
   ]
  },
  {
   "cell_type": "markdown",
   "id": "9fd4e23e-40e4-4dce-abb2-262d60910b88",
   "metadata": {},
   "source": [
    "18. Create a class House with attributes address and price. Create a derived class Mansion that adds an\n",
    "attribute number_of_rooms."
   ]
  },
  {
   "cell_type": "code",
   "execution_count": 11,
   "id": "6a4733c5-26a9-45f8-a598-61701ede7b5e",
   "metadata": {},
   "outputs": [
    {
     "name": "stdout",
     "output_type": "stream",
     "text": [
      "Mansion at 123 Luxury Lane costs $1500000 and has 10 rooms.\n"
     ]
    }
   ],
   "source": [
    "class House:\n",
    "    def __init__(self, address, price):\n",
    "        self.address = address\n",
    "        self.price = price\n",
    "\n",
    "class Mansion(House):\n",
    "    def __init__(self, address, price, number_of_rooms):\n",
    "        super().__init__(address, price)\n",
    "        self.number_of_rooms = number_of_rooms\n",
    "m = Mansion(\"123 Luxury Lane\", 1500000, 10)\n",
    "print(f\"Mansion at {m.address} costs ${m.price} and has {m.number_of_rooms} rooms.\")\n"
   ]
  },
  {
   "cell_type": "code",
   "execution_count": null,
   "id": "3bcc8604-6e98-43b2-90fe-e28aec905f78",
   "metadata": {},
   "outputs": [],
   "source": []
  }
 ],
 "metadata": {
  "kernelspec": {
   "display_name": "Python 3 (ipykernel)",
   "language": "python",
   "name": "python3"
  },
  "language_info": {
   "codemirror_mode": {
    "name": "ipython",
    "version": 3
   },
   "file_extension": ".py",
   "mimetype": "text/x-python",
   "name": "python",
   "nbconvert_exporter": "python",
   "pygments_lexer": "ipython3",
   "version": "3.12.4"
  }
 },
 "nbformat": 4,
 "nbformat_minor": 5
}
